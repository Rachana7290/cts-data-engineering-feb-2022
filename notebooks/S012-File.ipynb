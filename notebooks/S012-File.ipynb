{
 "cells": [
  {
   "cell_type": "code",
   "execution_count": 3,
   "id": "53b887e6-1f5e-4b2c-91f8-c67871d9f591",
   "metadata": {},
   "outputs": [
    {
     "name": "stdout",
     "output_type": "stream",
     "text": [
      "learning python\n",
      "\n",
      "with jupyter\n",
      "\n"
     ]
    }
   ],
   "source": [
    "f = open(\"README.md\", \"r\")\n",
    "line = f.readline()\n",
    "print (line)\n",
    "line = f.readline()\n",
    "print (line)"
   ]
  },
  {
   "cell_type": "code",
   "execution_count": 5,
   "id": "bbf12ced-24a9-4c62-83b7-4fcee7c10506",
   "metadata": {},
   "outputs": [
    {
     "name": "stdout",
     "output_type": "stream",
     "text": [
      "learning python\n",
      "\n",
      "with jupyter\n",
      "\n",
      "on windows\n",
      "\n"
     ]
    }
   ],
   "source": [
    "f = open(\"README.md\", \"r\")\n",
    "# using iterator\n",
    "for line in f:\n",
    "    print(line)"
   ]
  },
  {
   "cell_type": "code",
   "execution_count": null,
   "id": "c0364f8c-fb23-4b3e-898a-303e0798a405",
   "metadata": {},
   "outputs": [],
   "source": []
  }
 ],
 "metadata": {
  "kernelspec": {
   "display_name": "Python 3 (ipykernel)",
   "language": "python",
   "name": "python3"
  },
  "language_info": {
   "codemirror_mode": {
    "name": "ipython",
    "version": 3
   },
   "file_extension": ".py",
   "mimetype": "text/x-python",
   "name": "python",
   "nbconvert_exporter": "python",
   "pygments_lexer": "ipython3",
   "version": "3.7.10"
  }
 },
 "nbformat": 4,
 "nbformat_minor": 5
}
