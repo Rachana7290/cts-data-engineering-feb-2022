{
 "cells": [
  {
   "cell_type": "code",
   "execution_count": 2,
   "id": "aae7db9b-8328-44d5-bd35-1b826935df45",
   "metadata": {},
   "outputs": [],
   "source": [
    "# this area is called Cell\n",
    "# comments\n",
    "\n",
    "name = \"Python\"\n",
    "framework = 'spark'\n",
    "# multi line strings easily\n",
    "course = \"\"\"\n",
    "learning python and apache spark\n",
    "   kafka\n",
    "aws\n",
    "\"\"\"\n",
    "\n",
    "# to run the shell, focus the cursor on the cell, then Shift + Enter"
   ]
  },
  {
   "cell_type": "code",
   "execution_count": null,
   "id": "d7b07a08-aa02-4cfa-9f22-1164b5e02e8b",
   "metadata": {},
   "outputs": [],
   "source": []
  }
 ],
 "metadata": {
  "kernelspec": {
   "display_name": "Python 3 (ipykernel)",
   "language": "python",
   "name": "python3"
  },
  "language_info": {
   "codemirror_mode": {
    "name": "ipython",
    "version": 3
   },
   "file_extension": ".py",
   "mimetype": "text/x-python",
   "name": "python",
   "nbconvert_exporter": "python",
   "pygments_lexer": "ipython3",
   "version": "3.7.10"
  }
 },
 "nbformat": 4,
 "nbformat_minor": 5
}
