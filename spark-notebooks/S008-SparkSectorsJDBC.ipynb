{
 "cells": [
  {
   "cell_type": "code",
   "execution_count": 4,
   "id": "059d7912-2384-45e8-bd4c-58d1792b023a",
   "metadata": {},
   "outputs": [
    {
     "name": "stdout",
     "output_type": "stream",
     "text": [
      "root\n",
      " |-- Company Name: string (nullable = true)\n",
      " |-- Industry: string (nullable = true)\n",
      " |-- Symbol: string (nullable = true)\n",
      " |-- Series: string (nullable = true)\n",
      " |-- ISIN Code: string (nullable = true)\n",
      "\n",
      "+------------------+------------------+----------+------+------------+\n",
      "|      Company Name|          Industry|    Symbol|Series|   ISIN Code|\n",
      "+------------------+------------------+----------+------+------------+\n",
      "|    Axis Bank Ltd.|FINANCIAL SERVICES|  AXISBANK|    EQ|INE238A01034|\n",
      "|Bajaj Finance Ltd.|FINANCIAL SERVICES|BAJFINANCE|    EQ|INE296A01024|\n",
      "+------------------+------------------+----------+------+------------+\n",
      "only showing top 2 rows\n",
      "\n"
     ]
    },
    {
     "data": {
      "text/plain": [
       "sectorDf: org.apache.spark.sql.DataFrame = [Company Name: string, Industry: string ... 3 more fields]\n"
      ]
     },
     "execution_count": 4,
     "metadata": {},
     "output_type": "execute_result"
    }
   ],
   "source": [
    "val sectorDf = spark.read\n",
    "                    .format(\"csv\")\n",
    "                    .option(\"header\", true)\n",
    "                    .option(\"inferSchema\", true)\n",
    "                    .option(\"delimitter\", \",\")\n",
    "                    .load(\"hdfs://localhost:9000/stocks/sectors\")\n",
    "\n",
    "sectorDf.printSchema()\n",
    "sectorDf.show(2)"
   ]
  },
  {
   "cell_type": "code",
   "execution_count": 5,
   "id": "8ecc1a67-be40-4002-a57c-ba5a12640610",
   "metadata": {},
   "outputs": [],
   "source": [
    "// Write dataframe into mysql\n",
    "// overwrite - sectors/existing  table, data shall be deleted\n",
    "// new table created, records shall be inserted\n",
    "// \"jdbc\" - write to connect to db\n",
    "// driver - mysql class name\n",
    "// user - mysql user name\n",
    "// password - mysql password\n",
    "// dbtable - mysql table name\n",
    "sectorDf\n",
    ".withColumnRenamed(\"Company Name\", \"Company\")\n",
    ".withColumnRenamed(\"ISIN Code\", \"ISIN\")\n",
    ".write\n",
    " .mode(\"overwrite\")\n",
    ".format(\"jdbc\")\n",
    ".option(\"url\", \"jdbc:mysql://localhost:3306/stockdb\")\n",
    ".option(\"driver\", \"com.mysql.jdbc.Driver\")\n",
    ".option(\"user\", \"team\")\n",
    ".option(\"password\", \"Team1234!\")\n",
    ".option(\"dbtable\", \"sectors\")\n",
    " .save()"
   ]
  },
  {
   "cell_type": "code",
   "execution_count": 6,
   "id": "f7ed196e-eb1a-4474-b7d3-f7d346691477",
   "metadata": {},
   "outputs": [
    {
     "name": "stdout",
     "output_type": "stream",
     "text": [
      "root\n",
      " |-- Company: string (nullable = true)\n",
      " |-- Industry: string (nullable = true)\n",
      " |-- Symbol: string (nullable = true)\n",
      " |-- Series: string (nullable = true)\n",
      " |-- ISIN: string (nullable = true)\n",
      "\n",
      "+--------------------+------------+----------+------+------------+\n",
      "|             Company|    Industry|    Symbol|Series|        ISIN|\n",
      "+--------------------+------------+----------+------+------------+\n",
      "|Brigade Enterpris...|CONSTRUCTION|   BRIGADE|    EQ|INE791I01019|\n",
      "|            DLF Ltd.|CONSTRUCTION|       DLF|    EQ|INE271C01023|\n",
      "|Godrej Properties...|CONSTRUCTION|GODREJPROP|    EQ|INE484J01027|\n",
      "|Indiabulls Real E...|CONSTRUCTION| IBREALEST|    EQ|INE069I01010|\n",
      "|Macrotech Develop...|CONSTRUCTION|     LODHA|    EQ|INE670K01029|\n",
      "+--------------------+------------+----------+------+------------+\n",
      "only showing top 5 rows\n",
      "\n"
     ]
    },
    {
     "data": {
      "text/plain": [
       "sectorDataFromMySqlDf: org.apache.spark.sql.DataFrame = [Company: string, Industry: string ... 3 more fields]\n"
      ]
     },
     "execution_count": 6,
     "metadata": {},
     "output_type": "execute_result"
    }
   ],
   "source": [
    "// Now read data from mysql to DataFrame\n",
    "// this will create schema automatically because database\n",
    "// is structured already, it has table, column, data type etc\n",
    "// Spark will read scheme definition from mysql and create dataframe\n",
    "// automatically\n",
    "val sectorDataFromMySqlDf = spark.read\n",
    ".format(\"jdbc\")\n",
    ".option(\"url\", \"jdbc:mysql://localhost:3306/stockdb\")\n",
    ".option(\"driver\", \"com.mysql.jdbc.Driver\")\n",
    ".option(\"user\", \"team\")\n",
    ".option(\"password\", \"Team1234!\")\n",
    ".option(\"dbtable\", \"sectors\")\n",
    " .load()\n",
    "\n",
    "sectorDataFromMySqlDf.printSchema()\n",
    "sectorDataFromMySqlDf.show(5)"
   ]
  },
  {
   "cell_type": "code",
   "execution_count": null,
   "id": "3b7812b0-0c85-4f44-8607-c33499708b05",
   "metadata": {},
   "outputs": [],
   "source": []
  }
 ],
 "metadata": {
  "kernelspec": {
   "display_name": "spylon-kernel",
   "language": "scala",
   "name": "spylon-kernel"
  },
  "language_info": {
   "codemirror_mode": "text/x-scala",
   "file_extension": ".scala",
   "help_links": [
    {
     "text": "MetaKernel Magics",
     "url": "https://metakernel.readthedocs.io/en/latest/source/README.html"
    }
   ],
   "mimetype": "text/x-scala",
   "name": "scala",
   "pygments_lexer": "scala",
   "version": "0.4.1"
  }
 },
 "nbformat": 4,
 "nbformat_minor": 5
}
