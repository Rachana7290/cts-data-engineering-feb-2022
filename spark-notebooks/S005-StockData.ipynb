{
 "cells": [
  {
   "cell_type": "code",
   "execution_count": 10,
   "id": "059d7912-2384-45e8-bd4c-58d1792b023a",
   "metadata": {},
   "outputs": [
    {
     "name": "stdout",
     "output_type": "stream",
     "text": [
      "root\n",
      " |-- Company Name: string (nullable = true)\n",
      " |-- Industry: string (nullable = true)\n",
      " |-- Symbol: string (nullable = true)\n",
      " |-- Series: string (nullable = true)\n",
      " |-- ISIN Code: string (nullable = true)\n",
      "\n",
      "+------------------+------------------+----------+------+------------+\n",
      "|      Company Name|          Industry|    Symbol|Series|   ISIN Code|\n",
      "+------------------+------------------+----------+------+------------+\n",
      "|    Axis Bank Ltd.|FINANCIAL SERVICES|  AXISBANK|    EQ|INE238A01034|\n",
      "|Bajaj Finance Ltd.|FINANCIAL SERVICES|BAJFINANCE|    EQ|INE296A01024|\n",
      "+------------------+------------------+----------+------+------------+\n",
      "only showing top 2 rows\n",
      "\n"
     ]
    },
    {
     "data": {
      "text/plain": [
       "sectorDf: org.apache.spark.sql.DataFrame = [Company Name: string, Industry: string ... 3 more fields]\n"
      ]
     },
     "execution_count": 10,
     "metadata": {},
     "output_type": "execute_result"
    }
   ],
   "source": [
    "val sectorDf = spark.read\n",
    "                    .format(\"csv\")\n",
    "                    .option(\"header\", true)\n",
    "                    .option(\"inferSchema\", true)\n",
    "                    .option(\"delimitter\", \",\")\n",
    "                    .load(\"hdfs://localhost:9000/stocks/sectors\")\n",
    "\n",
    "sectorDf.printSchema()\n",
    "sectorDf.show(2)"
   ]
  },
  {
   "cell_type": "code",
   "execution_count": 3,
   "id": "14f36230-5c57-4813-9943-fd7334d8160b",
   "metadata": {},
   "outputs": [
    {
     "data": {
      "text/plain": [
       "import org.apache.spark.sql.types.{StringType, StructType, DoubleType, IntegerType, LongType, StructField}\n",
       "SectorSchema: org.apache.spark.sql.types.StructType = StructType(StructField(CompanyName,StringType,true), StructField(Industry,StringType,true), StructField(Symbol,StringType,true), StructField(Series,StringType,true), StructField(ISIN,StringType,true))\n"
      ]
     },
     "execution_count": 3,
     "metadata": {},
     "output_type": "execute_result"
    }
   ],
   "source": [
    "// create a schema for dataframe using scala\n",
    "import org.apache.spark.sql.types.{StringType, StructType, DoubleType, \n",
    "                                   IntegerType, LongType, StructField }\n",
    "\n",
    "// SectorSchema\n",
    "val SectorSchema = StructType(\n",
    "         List(\n",
    "             StructField(\"CompanyName\", StringType, true), // true nullable\n",
    "             StructField(\"Industry\", StringType, true),\n",
    "             StructField(\"Symbol\", StringType, true),\n",
    "             StructField(\"Series\", StringType, true),\n",
    "             StructField(\"ISIN\", StringType, true)\n",
    "             )\n",
    "    )"
   ]
  },
  {
   "cell_type": "code",
   "execution_count": 4,
   "id": "fce3a9ba-f331-4c72-8fad-bf5017c0b4f0",
   "metadata": {},
   "outputs": [
    {
     "name": "stdout",
     "output_type": "stream",
     "text": [
      "root\n",
      " |-- CompanyName: string (nullable = true)\n",
      " |-- Industry: string (nullable = true)\n",
      " |-- Symbol: string (nullable = true)\n",
      " |-- Series: string (nullable = true)\n",
      " |-- ISIN: string (nullable = true)\n",
      "\n",
      "+------------------+------------------+----------+------+------------+\n",
      "|       CompanyName|          Industry|    Symbol|Series|        ISIN|\n",
      "+------------------+------------------+----------+------+------------+\n",
      "|    Axis Bank Ltd.|FINANCIAL SERVICES|  AXISBANK|    EQ|INE238A01034|\n",
      "|Bajaj Finance Ltd.|FINANCIAL SERVICES|BAJFINANCE|    EQ|INE296A01024|\n",
      "+------------------+------------------+----------+------+------------+\n",
      "only showing top 2 rows\n",
      "\n"
     ]
    },
    {
     "data": {
      "text/plain": [
       "sectorDf: org.apache.spark.sql.DataFrame = [CompanyName: string, Industry: string ... 3 more fields]\n"
      ]
     },
     "execution_count": 4,
     "metadata": {},
     "output_type": "execute_result"
    }
   ],
   "source": [
    "// Use the Schema\n",
    "val sectorDf = spark.read\n",
    "                    .format(\"csv\")\n",
    "                    .option(\"header\", true)\n",
    "                    .option(\"delimitter\", \",\")\n",
    "                    .schema(SectorSchema)\n",
    "                    .load(\"hdfs://localhost:9000/stocks/sectors\")\n",
    "\n",
    "sectorDf.printSchema()\n",
    "sectorDf.show(2)"
   ]
  },
  {
   "cell_type": "code",
   "execution_count": 5,
   "id": "000ae2da-b18b-4871-88e8-178985f1199c",
   "metadata": {},
   "outputs": [
    {
     "data": {
      "text/plain": [
       "res3: Array[String] = Array(CompanyName, Industry, Symbol, Series, ISIN)\n"
      ]
     },
     "execution_count": 5,
     "metadata": {},
     "output_type": "execute_result"
    }
   ],
   "source": [
    "sectorDf.columns"
   ]
  },
  {
   "cell_type": "code",
   "execution_count": 6,
   "id": "b8e560d2-12cb-4fea-b3ac-03fc567e3917",
   "metadata": {},
   "outputs": [
    {
     "data": {
      "text/plain": [
       "res4: Long = 200\n"
      ]
     },
     "execution_count": 6,
     "metadata": {},
     "output_type": "execute_result"
    }
   ],
   "source": [
    "sectorDf.count()"
   ]
  },
  {
   "cell_type": "code",
   "execution_count": 8,
   "id": "be9fbc7f-6fa1-47e7-a2b8-63d9eb860370",
   "metadata": {},
   "outputs": [
    {
     "name": "stdout",
     "output_type": "stream",
     "text": [
      "root\n",
      " |-- Industry: string (nullable = true)\n",
      " |-- Symbol: string (nullable = true)\n",
      "\n",
      "+------------------+----------+\n",
      "|          Industry|    Symbol|\n",
      "+------------------+----------+\n",
      "|FINANCIAL SERVICES|  AXISBANK|\n",
      "|FINANCIAL SERVICES|BAJFINANCE|\n",
      "|FINANCIAL SERVICES|BAJAJFINSV|\n",
      "|FINANCIAL SERVICES|  CHOLAFIN|\n",
      "|FINANCIAL SERVICES|   HDFCAMC|\n",
      "+------------------+----------+\n",
      "only showing top 5 rows\n",
      "\n"
     ]
    },
    {
     "data": {
      "text/plain": [
       "df: org.apache.spark.sql.DataFrame = [Industry: string, Symbol: string]\n"
      ]
     },
     "execution_count": 8,
     "metadata": {},
     "output_type": "execute_result"
    }
   ],
   "source": [
    "val df = sectorDf.select(\"Industry\", \"Symbol\")\n",
    "df.printSchema()\n",
    "df.show(5)"
   ]
  },
  {
   "cell_type": "code",
   "execution_count": 15,
   "id": "344a2f95-4b40-4bab-91e5-0cb06ba3724c",
   "metadata": {},
   "outputs": [
    {
     "name": "stdout",
     "output_type": "stream",
     "text": [
      "+--------------------+\n",
      "|            Industry|\n",
      "+--------------------+\n",
      "|          AUTOMOBILE|\n",
      "|        CONSTRUCTION|\n",
      "|      CONSUMER GOODS|\n",
      "|  FINANCIAL SERVICES|\n",
      "| HEALTHCARE SERVICES|\n",
      "|INDUSTRIAL MANUFA...|\n",
      "|                  IT|\n",
      "|MEDIA ENTERTAINME...|\n",
      "|              METALS|\n",
      "|           OIL & GAS|\n",
      "|              PHARMA|\n",
      "+--------------------+\n",
      "\n"
     ]
    }
   ],
   "source": [
    "// pick all industries, sort them in ascending order\n",
    "// output has ... format, means column values are truncated by show method\n",
    "sectorDf.select(\"Industry\").distinct().sort(\"Industry\").show()"
   ]
  },
  {
   "cell_type": "code",
   "execution_count": 14,
   "id": "269fb400-5f0f-4a43-b898-67a8eef3b931",
   "metadata": {},
   "outputs": [
    {
     "name": "stdout",
     "output_type": "stream",
     "text": [
      "+---------------------------------+\n",
      "|Industry                         |\n",
      "+---------------------------------+\n",
      "|AUTOMOBILE                       |\n",
      "|CONSTRUCTION                     |\n",
      "|CONSUMER GOODS                   |\n",
      "|FINANCIAL SERVICES               |\n",
      "|HEALTHCARE SERVICES              |\n",
      "|INDUSTRIAL MANUFACTURING         |\n",
      "|IT                               |\n",
      "|MEDIA ENTERTAINMENT & PUBLICATION|\n",
      "|METALS                           |\n",
      "|OIL & GAS                        |\n",
      "|PHARMA                           |\n",
      "+---------------------------------+\n",
      "\n"
     ]
    }
   ],
   "source": [
    "// shows full column name\n",
    "sectorDf.select(\"Industry\").distinct().sort(\"Industry\").show(truncate = false)"
   ]
  },
  {
   "cell_type": "code",
   "execution_count": 18,
   "id": "65475782-766e-4935-a565-1ec69ef9aab3",
   "metadata": {},
   "outputs": [
    {
     "name": "stdout",
     "output_type": "stream",
     "text": [
      "+--------------------+\n",
      "|            Industry|\n",
      "+--------------------+\n",
      "|              PHARMA|\n",
      "|           OIL & GAS|\n",
      "|              METALS|\n",
      "|MEDIA ENTERTAINME...|\n",
      "|                  IT|\n",
      "|INDUSTRIAL MANUFA...|\n",
      "| HEALTHCARE SERVICES|\n",
      "|  FINANCIAL SERVICES|\n",
      "|      CONSUMER GOODS|\n",
      "|        CONSTRUCTION|\n",
      "|          AUTOMOBILE|\n",
      "+--------------------+\n",
      "\n"
     ]
    },
    {
     "data": {
      "text/plain": [
       "import org.apache.spark.sql.functions.{col, desc}\n"
      ]
     },
     "execution_count": 18,
     "metadata": {},
     "output_type": "execute_result"
    }
   ],
   "source": [
    "import org.apache.spark.sql.functions.{col, desc}\n",
    "// sectorDf(\"Industry\") represent col type\n",
    "// descending order\n",
    "sectorDf.select(sectorDf(\"Industry\")).distinct().sort(desc(\"Industry\")).show()"
   ]
  },
  {
   "cell_type": "code",
   "execution_count": 19,
   "id": "dfa34f46-da10-48ed-b6e2-4e7f35046131",
   "metadata": {},
   "outputs": [
    {
     "name": "stdout",
     "output_type": "stream",
     "text": [
      "+--------------------+\n",
      "|            Industry|\n",
      "+--------------------+\n",
      "|              PHARMA|\n",
      "|           OIL & GAS|\n",
      "|              METALS|\n",
      "|MEDIA ENTERTAINME...|\n",
      "|                  IT|\n",
      "|INDUSTRIAL MANUFA...|\n",
      "| HEALTHCARE SERVICES|\n",
      "|  FINANCIAL SERVICES|\n",
      "|      CONSUMER GOODS|\n",
      "|        CONSTRUCTION|\n",
      "|          AUTOMOBILE|\n",
      "+--------------------+\n",
      "\n"
     ]
    },
    {
     "data": {
      "text/plain": [
       "import org.apache.spark.sql.functions.{col, desc}\n"
      ]
     },
     "execution_count": 19,
     "metadata": {},
     "output_type": "execute_result"
    }
   ],
   "source": [
    "import org.apache.spark.sql.functions.{col, desc}\n",
    "// descending order\n",
    "sectorDf.select(col(\"Industry\")).distinct().sort(desc(\"Industry\")).show()"
   ]
  },
  {
   "cell_type": "code",
   "execution_count": 20,
   "id": "a18229b1-e76b-42f6-86e8-956f356eca47",
   "metadata": {},
   "outputs": [
    {
     "name": "stdout",
     "output_type": "stream",
     "text": [
      "+--------------------+\n",
      "|            Industry|\n",
      "+--------------------+\n",
      "|              PHARMA|\n",
      "|           OIL & GAS|\n",
      "|              METALS|\n",
      "|MEDIA ENTERTAINME...|\n",
      "|                  IT|\n",
      "|INDUSTRIAL MANUFA...|\n",
      "| HEALTHCARE SERVICES|\n",
      "|  FINANCIAL SERVICES|\n",
      "|      CONSUMER GOODS|\n",
      "|        CONSTRUCTION|\n",
      "|          AUTOMOBILE|\n",
      "+--------------------+\n",
      "\n"
     ]
    },
    {
     "data": {
      "text/plain": [
       "import org.apache.spark.sql.functions.{col, desc}\n"
      ]
     },
     "execution_count": 20,
     "metadata": {},
     "output_type": "execute_result"
    }
   ],
   "source": [
    "import org.apache.spark.sql.functions.{col, desc}\n",
    "// descending order\n",
    "// $ is a special symbol in scala for spark to represent column name\n",
    "sectorDf.select($\"Industry\").distinct().sort(desc(\"Industry\")).show()"
   ]
  },
  {
   "cell_type": "code",
   "execution_count": null,
   "id": "94b4a2d0-6364-4dfc-a4f8-d630200c93ed",
   "metadata": {},
   "outputs": [],
   "source": []
  }
 ],
 "metadata": {
  "kernelspec": {
   "display_name": "spylon-kernel",
   "language": "scala",
   "name": "spylon-kernel"
  },
  "language_info": {
   "codemirror_mode": "text/x-scala",
   "file_extension": ".scala",
   "help_links": [
    {
     "text": "MetaKernel Magics",
     "url": "https://metakernel.readthedocs.io/en/latest/source/README.html"
    }
   ],
   "mimetype": "text/x-scala",
   "name": "scala",
   "pygments_lexer": "scala",
   "version": "0.4.1"
  }
 },
 "nbformat": 4,
 "nbformat_minor": 5
}
