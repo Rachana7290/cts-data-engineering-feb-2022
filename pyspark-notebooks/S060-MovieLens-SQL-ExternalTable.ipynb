{
 "cells": [
  {
   "cell_type": "code",
   "execution_count": 1,
   "id": "664f0971-f78a-4ae4-980a-df46f1b4d75b",
   "metadata": {},
   "outputs": [],
   "source": [
    "# use directly movies and ratings tables from moviedb which are external tables"
   ]
  },
  {
   "cell_type": "code",
   "execution_count": 1,
   "id": "f2880c3e-9ee0-4e8b-8456-230319d17899",
   "metadata": {},
   "outputs": [],
   "source": [
    "import findspark\n",
    "findspark.init()"
   ]
  },
  {
   "cell_type": "code",
   "execution_count": 2,
   "id": "28ebb0b8-ad19-48d7-9f32-2060f221ee2e",
   "metadata": {},
   "outputs": [],
   "source": [
    "from pyspark.conf import SparkConf\n",
    "config = SparkConf()\n",
    "# config.set(\"property\", \"value\")\n",
    "config.setMaster(\"local\").setAppName(\"MovieLensSQL\")\n",
    "\n",
    "config.set(\"spark.local.dir\", \"/home/ubuntu/spark-temp\")\n",
    "\n",
    "# while using hive.metastore.warehouse.dir, we should not use spark warehouse dir\n",
    "\n",
    "config.set(\"hive.metastore.uris\", \"thrift://localhost:9083\")\n",
    "config.set(\"hive.metastore.warehouse.dir\", \"hdfs://localhost:9000/user/hive/warehouse\")\n",
    "\n",
    "\n",
    "from pyspark.sql import SparkSession\n",
    "# spark Session, entry point for Spark SQL, DataFrame\n",
    "spark = SparkSession.builder\\\n",
    "                    .config(conf=config)\\\n",
    "                    .enableHiveSupport()\\\n",
    "                    .getOrCreate()\n",
    "\n",
    "sc = spark.sparkContext"
   ]
  },
  {
   "cell_type": "code",
   "execution_count": 3,
   "id": "b6f86553-5b30-48a9-9f4d-931584c6e2fe",
   "metadata": {},
   "outputs": [],
   "source": [
    "# hdfs dfs -ls /movies\n",
    "# hdfs dfs -ls /ratings"
   ]
  },
  {
   "cell_type": "code",
   "execution_count": 10,
   "id": "e9c243ce-434f-460b-8f62-2d25d7717d9a",
   "metadata": {},
   "outputs": [
    {
     "name": "stdout",
     "output_type": "stream",
     "text": [
      "+-------+--------------------+--------------------+\n",
      "|movieId|               title|              genres|\n",
      "+-------+--------------------+--------------------+\n",
      "|      1|    Toy Story (1995)|Adventure|Animati...|\n",
      "|      2|      Jumanji (1995)|Adventure|Childre...|\n",
      "|      3|Grumpier Old Men ...|      Comedy|Romance|\n",
      "|      4|Waiting to Exhale...|Comedy|Drama|Romance|\n",
      "|      5|Father of the Bri...|              Comedy|\n",
      "+-------+--------------------+--------------------+\n",
      "\n"
     ]
    }
   ],
   "source": [
    "# external table pointing to csv file(s)\n",
    "spark.sql(\"\"\"\n",
    "SELECT * FROM moviedb.movies LIMIT 5\n",
    "\n",
    "\"\"\").show()"
   ]
  },
  {
   "cell_type": "code",
   "execution_count": 3,
   "id": "9c388491-7a94-43f3-a947-072d74940a63",
   "metadata": {},
   "outputs": [
    {
     "name": "stdout",
     "output_type": "stream",
     "text": [
      "+-------+--------+------+----------------+\n",
      "|user_id|movie_id|rating|rating_timestamp|\n",
      "+-------+--------+------+----------------+\n",
      "|   null|    null|  null|            null|\n",
      "|      1|       1|     4|       964982703|\n",
      "|      1|       3|     4|       964981247|\n",
      "|      1|       6|     4|       964982224|\n",
      "|      1|      47|     5|       964983815|\n",
      "+-------+--------+------+----------------+\n",
      "\n"
     ]
    }
   ],
   "source": [
    "# moviedb.ratings is external table\n",
    "spark.sql(\"\"\"\n",
    "SELECT * FROM moviedb.ratings LIMIT 5\n",
    "\"\"\").show()"
   ]
  },
  {
   "cell_type": "code",
   "execution_count": 10,
   "id": "34db62ea-0476-4d59-a241-58f718646bbd",
   "metadata": {},
   "outputs": [
    {
     "name": "stdout",
     "output_type": "stream",
     "text": [
      "root\n",
      " |-- movie_id: integer (nullable = true)\n",
      " |-- avg_rating: decimal(14,4) (nullable = true)\n",
      " |-- total_ratings: long (nullable = false)\n",
      "\n",
      "+--------+----------+-------------+\n",
      "|movie_id|avg_rating|total_ratings|\n",
      "+--------+----------+-------------+\n",
      "|    1580|    3.6364|          165|\n",
      "|    2366|    3.7200|           25|\n",
      "|    3175|    3.6933|           75|\n",
      "|    1088|    3.5714|           42|\n",
      "|   32460|    4.5000|            4|\n",
      "+--------+----------+-------------+\n",
      "only showing top 5 rows\n",
      "\n"
     ]
    }
   ],
   "source": [
    "# Rating Analytics for popular movies\n",
    "\n",
    "popularMoviesDf = spark.sql(\"\"\"\n",
    "SELECT movie_id, avg(rating) as avg_rating, count(user_id) as total_ratings\n",
    "FROM moviedb.ratings\n",
    "WHERE movie_id IS NOT null\n",
    "GROUP BY movie_id\n",
    "\"\"\")\n",
    "\n",
    "popularMoviesDf.printSchema()\n",
    "popularMoviesDf.show(5)"
   ]
  },
  {
   "cell_type": "code",
   "execution_count": 11,
   "id": "e5b3f3fb-492f-4fe0-ba56-ceb1ed266845",
   "metadata": {},
   "outputs": [
    {
     "data": {
      "text/plain": [
       "DataFrame[]"
      ]
     },
     "execution_count": 11,
     "metadata": {},
     "output_type": "execute_result"
    }
   ],
   "source": [
    "# Rating Analytics for popular movies\n",
    "# create a temporary view out of SQL SELECT statement\n",
    "# CTAS - CREATE TABLE AS, the popular_movies shall have output analytical query\n",
    "spark.sql(\"\"\"\n",
    "CREATE OR REPLACE TEMP VIEW popular_movies AS\n",
    "SELECT movie_id, avg(rating) as avg_rating, count(user_id) as total_ratings\n",
    "FROM moviedb.ratings\n",
    "WHERE movie_id IS NOT null\n",
    "GROUP BY movie_id\n",
    "HAVING avg_rating >= 3.5 AND total_ratings >= 100\n",
    "\"\"\")"
   ]
  },
  {
   "cell_type": "code",
   "execution_count": 12,
   "id": "95adc50a-05bf-4c1b-915f-902e5f0acdb3",
   "metadata": {},
   "outputs": [
    {
     "name": "stdout",
     "output_type": "stream",
     "text": [
      "+--------+--------------+-----------+\n",
      "|database|     tableName|isTemporary|\n",
      "+--------+--------------+-----------+\n",
      "| default|        brands|      false|\n",
      "| default|     employees|      false|\n",
      "| default|    employees2|      false|\n",
      "| default|      payroles|      false|\n",
      "|        |popular_movies|       true|\n",
      "+--------+--------------+-----------+\n",
      "\n"
     ]
    }
   ],
   "source": [
    "spark.sql(\"SHOW TABLES\").show()"
   ]
  },
  {
   "cell_type": "code",
   "execution_count": 24,
   "id": "85b7d834-7ce8-433f-8e4f-003b565525ca",
   "metadata": {},
   "outputs": [
    {
     "name": "stdout",
     "output_type": "stream",
     "text": [
      "+-------+------------------+-------------+\n",
      "|movieId|        avg_rating|total_ratings|\n",
      "+-------+------------------+-------------+\n",
      "|    858|         4.2890625|          192|\n",
      "|   1270| 4.038011695906433|          171|\n",
      "|   1265| 3.944055944055944|          143|\n",
      "|    588|3.7923497267759565|          183|\n",
      "|    296| 4.197068403908795|          307|\n",
      "+-------+------------------+-------------+\n",
      "only showing top 5 rows\n",
      "\n"
     ]
    }
   ],
   "source": [
    "spark.sql(\"SELECT * FROM popular_movies\").show(5)"
   ]
  },
  {
   "cell_type": "code",
   "execution_count": 19,
   "id": "e6411753-67a9-426a-8f73-cfff7ac10a64",
   "metadata": {},
   "outputs": [
    {
     "data": {
      "text/plain": [
       "DataFrame[]"
      ]
     },
     "execution_count": 19,
     "metadata": {},
     "output_type": "execute_result"
    }
   ],
   "source": [
    "# do not run \n",
    "# spark.sql(\"DROP  VIEW popular_movies\")"
   ]
  },
  {
   "cell_type": "code",
   "execution_count": 13,
   "id": "5bd3c625-7e9b-4d32-aeab-6bc5ee6e219d",
   "metadata": {},
   "outputs": [
    {
     "name": "stdout",
     "output_type": "stream",
     "text": [
      "+--------+--------------------+----------+-------------+\n",
      "|movie_id|               title|avg_rating|total_ratings|\n",
      "+--------+--------------------+----------+-------------+\n",
      "|     318|\"Shawshank Redemp...|    4.5300|          317|\n",
      "|   48516|           \"Departed|    4.4673|          107|\n",
      "|    2959|   Fight Club (1999)|    4.4404|          218|\n",
      "|   58559|        \"Dark Knight|    4.4295|          149|\n",
      "|    1213|   Goodfellas (1990)|    4.3968|          126|\n",
      "|     858|          \"Godfather|    4.3958|          192|\n",
      "|    2329|American History ...|    4.3876|          129|\n",
      "|    1197|     \"Princess Bride|    4.3732|          142|\n",
      "|      50|     \"Usual Suspects|    4.3725|          204|\n",
      "|    1221| \"Godfather: Part II|    4.3721|          129|\n",
      "|     912|   Casablanca (1942)|    4.3600|          100|\n",
      "|    7361|Eternal Sunshine ...|    4.3511|          131|\n",
      "|     527|Schindler's List ...|    4.3500|          220|\n",
      "|    1193|One Flew Over the...|    4.3308|          133|\n",
      "|     260|Star Wars: Episod...|    4.3307|          251|\n",
      "|    1208|Apocalypse Now (1...|    4.3271|          107|\n",
      "|    1196|Star Wars: Episod...|    4.3270|          211|\n",
      "|    4226|      Memento (2000)|    4.3208|          159|\n",
      "|    2571|             \"Matrix|    4.3201|          278|\n",
      "|    1198|Raiders of the Lo...|    4.3200|          200|\n",
      "+--------+--------------------+----------+-------------+\n",
      "only showing top 20 rows\n",
      "\n"
     ]
    }
   ],
   "source": [
    "# join to get the movie titles\n",
    "# INNER JOIN moviedb.movies movies  IN THIS STATEMENT, movies is ALAIS\n",
    "spark.sql(\"\"\"\n",
    "SELECT movies.movie_id, title, avg_rating, total_ratings \n",
    "FROM popular_movies \n",
    "INNER JOIN moviedb.movies movies ON popular_movies.movie_id = movies.movie_id\n",
    "ORDER BY avg_rating DESC\n",
    "\"\"\").show()"
   ]
  },
  {
   "cell_type": "code",
   "execution_count": 14,
   "id": "e7fb5fbf-4711-4446-8fb3-5b7aab35310f",
   "metadata": {},
   "outputs": [
    {
     "data": {
      "text/plain": [
       "DataFrame[]"
      ]
     },
     "execution_count": 14,
     "metadata": {},
     "output_type": "execute_result"
    }
   ],
   "source": [
    " # CTAS - CREATE TEMP VIEW AS SELECT\n",
    "# FIXME\n",
    "spark.sql(\"\"\"\n",
    "CREATE OR REPLACE TEMP VIEW most_popular_movies AS \n",
    "SELECT movies.movie_id, title, avg_rating, total_ratings \n",
    "FROM popular_movies \n",
    "INNER JOIN moviedb.movies movies ON popular_movies.movie_id = movies.movie_id\n",
    "ORDER BY avg_rating DESC\n",
    "\"\"\")"
   ]
  },
  {
   "cell_type": "code",
   "execution_count": 21,
   "id": "03435d62-413c-4370-8aef-21d4cd152579",
   "metadata": {},
   "outputs": [
    {
     "data": {
      "text/plain": [
       "DataFrame[]"
      ]
     },
     "execution_count": 21,
     "metadata": {},
     "output_type": "execute_result"
    }
   ],
   "source": [
    "# CREATE A PERMANENT MANAGED TABLE in HIVE CATALOG\n",
    "# DATA SHALL BE STORED IN /user/hive/warehouse/moviedb.db/popular_movies\n",
    "# CTAS - CREATE TABLE AS SELECT\n",
    "# FIXME\n",
    "spark.sql(\"\"\"\n",
    "CREATE TABLE moviedb.most_popular_movies6 AS \n",
    "SELECT movies.movie_id, title, avg_rating, total_ratings \n",
    "FROM popular_movies \n",
    "INNER JOIN moviedb.movies movies ON popular_movies.movie_id = movies.movie_id\n",
    "ORDER BY avg_rating DESC\n",
    "\"\"\")"
   ]
  },
  {
   "cell_type": "code",
   "execution_count": 15,
   "id": "6b1e646f-2263-40f3-b22d-59af43065b1f",
   "metadata": {},
   "outputs": [
    {
     "name": "stdout",
     "output_type": "stream",
     "text": [
      "+--------+--------------------+----------+-------------+\n",
      "|movie_id|               title|avg_rating|total_ratings|\n",
      "+--------+--------------------+----------+-------------+\n",
      "|     318|\"Shawshank Redemp...|    4.5300|          317|\n",
      "|   48516|           \"Departed|    4.4673|          107|\n",
      "|    2959|   Fight Club (1999)|    4.4404|          218|\n",
      "|   58559|        \"Dark Knight|    4.4295|          149|\n",
      "|    1213|   Goodfellas (1990)|    4.3968|          126|\n",
      "+--------+--------------------+----------+-------------+\n",
      "only showing top 5 rows\n",
      "\n"
     ]
    }
   ],
   "source": [
    "spark.sql(\"SELECT * FROM most_popular_movies\").show(5)"
   ]
  },
  {
   "cell_type": "code",
   "execution_count": 16,
   "id": "f5cc618d-92dd-4068-b32f-bc06cf32c8e2",
   "metadata": {},
   "outputs": [
    {
     "name": "stdout",
     "output_type": "stream",
     "text": [
      "+--------+--------------------+----------+-------------+\n",
      "|movie_id|               title|avg_rating|total_ratings|\n",
      "+--------+--------------------+----------+-------------+\n",
      "|     318|\"Shawshank Redemp...|    4.5300|          317|\n",
      "|   48516|           \"Departed|    4.4673|          107|\n",
      "|    2959|   Fight Club (1999)|    4.4404|          218|\n",
      "|   58559|        \"Dark Knight|    4.4295|          149|\n",
      "|    1213|   Goodfellas (1990)|    4.3968|          126|\n",
      "+--------+--------------------+----------+-------------+\n",
      "only showing top 5 rows\n",
      "\n"
     ]
    }
   ],
   "source": [
    "# get dataframe from table/temp view\n",
    "\n",
    "mostPopularMoviesDf = spark.table(\"most_popular_movies\")\n",
    "\n",
    "mostPopularMoviesDf.write\\\n",
    "                    .mode('overwrite')\\\n",
    "                    .saveAsTable(\"moviedb.most_popular_movies2\")\n",
    "\n",
    "mostPopularMoviesDf.show(5)"
   ]
  },
  {
   "cell_type": "code",
   "execution_count": 17,
   "id": "1b758a63-e559-4ca9-8895-2bb59f742485",
   "metadata": {},
   "outputs": [
    {
     "name": "stdout",
     "output_type": "stream",
     "text": [
      "+--------+--------------------+----------+-------------+\n",
      "|movie_id|               title|avg_rating|total_ratings|\n",
      "+--------+--------------------+----------+-------------+\n",
      "|    4896|Harry Potter and ...|    3.9533|          107|\n",
      "|    1198|Raiders of the Lo...|    4.3200|          200|\n",
      "|     293|Léon: The Profess...|    4.1429|          133|\n",
      "|    6539|Pirates of the Ca...|    3.9664|          149|\n",
      "|     253|Interview with th...|    3.5596|          109|\n",
      "+--------+--------------------+----------+-------------+\n",
      "only showing top 5 rows\n",
      "\n"
     ]
    }
   ],
   "source": [
    "spark.sql(\"SELECT * FROM moviedb.most_popular_movies2\").show(5)"
   ]
  },
  {
   "cell_type": "code",
   "execution_count": 22,
   "id": "a590c5aa-55e8-4229-a987-a53450786da9",
   "metadata": {},
   "outputs": [
    {
     "name": "stdout",
     "output_type": "stream",
     "text": [
      "+--------+--------------------+-----------+\n",
      "|database|           tableName|isTemporary|\n",
      "+--------+--------------------+-----------+\n",
      "| moviedb| most_popular_movies|      false|\n",
      "| moviedb|most_popular_movies2|      false|\n",
      "| moviedb|most_popular_movies6|      false|\n",
      "| moviedb|              movies|      false|\n",
      "| moviedb|             ratings|      false|\n",
      "| moviedb|             reviews|      false|\n",
      "|        | most_popular_movies|       true|\n",
      "|        |      popular_movies|       true|\n",
      "+--------+--------------------+-----------+\n",
      "\n"
     ]
    }
   ],
   "source": [
    "spark.sql(\"SHOW TABLES IN moviedb\").show()"
   ]
  },
  {
   "cell_type": "code",
   "execution_count": null,
   "id": "983bc2bb-2437-4c2a-b9cd-961c37de43f6",
   "metadata": {},
   "outputs": [],
   "source": [
    "# On Hive cli\n",
    "\n",
    "\"\"\"\n",
    "select * from moviedb.most_popular_movies;\n",
    "\"\"\""
   ]
  }
 ],
 "metadata": {
  "kernelspec": {
   "display_name": "Python 3",
   "language": "python",
   "name": "python3"
  },
  "language_info": {
   "codemirror_mode": {
    "name": "ipython",
    "version": 3
   },
   "file_extension": ".py",
   "mimetype": "text/x-python",
   "name": "python",
   "nbconvert_exporter": "python",
   "pygments_lexer": "ipython3",
   "version": "3.7.12"
  }
 },
 "nbformat": 4,
 "nbformat_minor": 5
}
