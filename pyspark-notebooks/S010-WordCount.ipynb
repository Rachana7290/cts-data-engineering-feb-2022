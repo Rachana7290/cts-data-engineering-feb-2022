{
 "cells": [
  {
   "cell_type": "code",
   "execution_count": 1,
   "id": "9e2cb79c-d74e-4bf7-b9a9-10a3fce1f33f",
   "metadata": {},
   "outputs": [],
   "source": [
    "import findspark\n",
    "findspark.init()"
   ]
  },
  {
   "cell_type": "code",
   "execution_count": 2,
   "id": "d2b656aa-6245-4dfd-b434-b30cc6fb2757",
   "metadata": {},
   "outputs": [
    {
     "name": "stderr",
     "output_type": "stream",
     "text": [
      "22/03/01 02:00:19 WARN Utils: Your hostname, ubuntu-virtual-machine resolves to a loopback address: 127.0.1.1; using 192.168.80.128 instead (on interface ens33)\n",
      "22/03/01 02:00:19 WARN Utils: Set SPARK_LOCAL_IP if you need to bind to another address\n",
      "22/03/01 02:00:20 WARN NativeCodeLoader: Unable to load native-hadoop library for your platform... using builtin-java classes where applicable\n",
      "Using Spark's default log4j profile: org/apache/spark/log4j-defaults.properties\n",
      "Setting default log level to \"WARN\".\n",
      "To adjust logging level use sc.setLogLevel(newLevel). For SparkR, use setLogLevel(newLevel).\n",
      "22/03/01 02:00:22 WARN Utils: Service 'SparkUI' could not bind on port 4040. Attempting port 4041.\n",
      "22/03/01 02:00:22 WARN Utils: Service 'SparkUI' could not bind on port 4041. Attempting port 4042.\n",
      "22/03/01 02:00:22 WARN Utils: Service 'SparkUI' could not bind on port 4042. Attempting port 4043.\n",
      "22/03/01 02:00:22 WARN Utils: Service 'SparkUI' could not bind on port 4043. Attempting port 4044.\n"
     ]
    }
   ],
   "source": [
    "from pyspark import SparkContext\n",
    "sc = SparkContext(\"local\", \"WordCount\")"
   ]
  },
  {
   "cell_type": "code",
   "execution_count": 5,
   "id": "66b6c3cb-ea6e-4719-b77b-ab8046975a0e",
   "metadata": {},
   "outputs": [
    {
     "data": {
      "text/plain": [
       "6"
      ]
     },
     "execution_count": 5,
     "metadata": {},
     "output_type": "execute_result"
    }
   ],
   "source": [
    "fileRdd = sc.textFile(\"hdfs://localhost:9000/words.txt\")\n",
    "\n",
    "fileRdd.count()"
   ]
  },
  {
   "cell_type": "code",
   "execution_count": 6,
   "id": "c7fd0ba0-6d05-4dc8-b508-8f0fb84b8c69",
   "metadata": {},
   "outputs": [
    {
     "data": {
      "text/plain": [
       "['   spark kafka  ',\n",
       " ' kafka   spark pyspark ',\n",
       " '                ',\n",
       " 'spark',\n",
       " '',\n",
       " 'APACHE Kafka APache SParK ']"
      ]
     },
     "execution_count": 6,
     "metadata": {},
     "output_type": "execute_result"
    }
   ],
   "source": [
    "fileRdd.collect()"
   ]
  },
  {
   "cell_type": "code",
   "execution_count": 7,
   "id": "bd6d8f81-3c2e-4bef-ae24-8874224da09e",
   "metadata": {},
   "outputs": [
    {
     "data": {
      "text/plain": [
       "['spark kafka',\n",
       " 'kafka   spark pyspark',\n",
       " '',\n",
       " 'spark',\n",
       " '',\n",
       " 'apache kafka apache spark']"
      ]
     },
     "execution_count": 7,
     "metadata": {},
     "output_type": "execute_result"
    }
   ],
   "source": [
    "# RDD Lineage\n",
    "\n",
    "lowerCaseRdd = fileRdd.map (lambda line: line.strip().lower())\n",
    "\n",
    "lowerCaseRdd.collect()"
   ]
  },
  {
   "cell_type": "code",
   "execution_count": 9,
   "id": "ac82a4e9-0165-4990-8a27-7c7281e4229e",
   "metadata": {},
   "outputs": [
    {
     "data": {
      "text/plain": [
       "[['spark', 'kafka'],\n",
       " ['kafka', '', '', 'spark', 'pyspark'],\n",
       " [''],\n",
       " ['spark'],\n",
       " [''],\n",
       " ['apache', 'kafka', 'apache', 'spark']]"
      ]
     },
     "execution_count": 9,
     "metadata": {},
     "output_type": "execute_result"
    }
   ],
   "source": [
    "wordListRdd = lowerCaseRdd.map (lambda line: line.split(\" \"))\n",
    "wordListRdd.collect()"
   ]
  },
  {
   "cell_type": "code",
   "execution_count": 11,
   "id": "238d831f-c6ad-4f7a-a657-bfc480733de1",
   "metadata": {},
   "outputs": [
    {
     "data": {
      "text/plain": [
       "['spark',\n",
       " 'kafka',\n",
       " 'kafka',\n",
       " '',\n",
       " '',\n",
       " 'spark',\n",
       " 'pyspark',\n",
       " '',\n",
       " 'spark',\n",
       " '',\n",
       " 'apache',\n",
       " 'kafka',\n",
       " 'apache',\n",
       " 'spark']"
      ]
     },
     "execution_count": 11,
     "metadata": {},
     "output_type": "execute_result"
    }
   ],
   "source": [
    "# flatMap, remove the list, project element in the list as record\n",
    "wordRdd = wordListRdd.flatMap(lambda elements: elements)\n",
    "wordRdd.collect()"
   ]
  },
  {
   "cell_type": "code",
   "execution_count": 13,
   "id": "daf50354-0090-4f80-8dbd-0751bc5d72be",
   "metadata": {},
   "outputs": [
    {
     "data": {
      "text/plain": [
       "['spark',\n",
       " 'kafka',\n",
       " 'kafka',\n",
       " 'spark',\n",
       " 'pyspark',\n",
       " 'spark',\n",
       " 'apache',\n",
       " 'kafka',\n",
       " 'apache',\n",
       " 'spark']"
      ]
     },
     "execution_count": 13,
     "metadata": {},
     "output_type": "execute_result"
    }
   ],
   "source": [
    "wordRdd =  wordRdd.filter (lambda word: word != \"\")\n",
    "wordRdd.collect()"
   ]
  },
  {
   "cell_type": "code",
   "execution_count": 15,
   "id": "260627d3-e2c6-4741-8e3b-c24200cd65ff",
   "metadata": {},
   "outputs": [
    {
     "data": {
      "text/plain": [
       "[('spark', 1),\n",
       " ('kafka', 1),\n",
       " ('kafka', 1),\n",
       " ('spark', 1),\n",
       " ('pyspark', 1),\n",
       " ('spark', 1),\n",
       " ('apache', 1),\n",
       " ('kafka', 1),\n",
       " ('apache', 1),\n",
       " ('spark', 1)]"
      ]
     },
     "execution_count": 15,
     "metadata": {},
     "output_type": "execute_result"
    }
   ],
   "source": [
    "# convert word into (key,value) rdd (spark, 1) for reduceByKey\n",
    "pairRdd = wordRdd.map (lambda word: (word, 1))\n",
    "pairRdd.collect()"
   ]
  },
  {
   "cell_type": "code",
   "execution_count": 16,
   "id": "b5aead8b-ae09-420a-a20b-16a709b907bf",
   "metadata": {},
   "outputs": [
    {
     "data": {
      "text/plain": [
       "[('spark', 4), ('kafka', 3), ('pyspark', 1), ('apache', 2)]"
      ]
     },
     "execution_count": 16,
     "metadata": {},
     "output_type": "execute_result"
    }
   ],
   "source": [
    "# get word count using reduceByKey\n",
    "wordCountRdd = pairRdd.reduceByKey(lambda acc, value: acc + value)\n",
    "wordCountRdd.collect()"
   ]
  },
  {
   "cell_type": "code",
   "execution_count": 17,
   "id": "4bfb51cb-385e-4e6e-a25d-2be937d17ed1",
   "metadata": {},
   "outputs": [
    {
     "data": {
      "text/plain": [
       "1"
      ]
     },
     "execution_count": 17,
     "metadata": {},
     "output_type": "execute_result"
    }
   ],
   "source": [
    "wordCountRdd.getNumPartitions()"
   ]
  },
  {
   "cell_type": "code",
   "execution_count": 18,
   "id": "d7a05749-86ff-4329-9a8d-bde7bd9e8427",
   "metadata": {},
   "outputs": [],
   "source": [
    "# write the result into text file in hdfs\n",
    "# saveAsTextFile is an ACTION Method\n",
    "# word-count-results1 is a folder, inside we will shall partition files\n",
    "\n",
    "wordCountRdd.saveAsTextFile (\"hdfs://localhost:9000/word-count-results1\")"
   ]
  },
  {
   "cell_type": "code",
   "execution_count": 19,
   "id": "2923c9b0-1bb9-420c-8bd5-e62572ae0817",
   "metadata": {},
   "outputs": [],
   "source": [
    "# hdfs dfs -ls /word-count-results1\n",
    "#  _SUCCESS 0 bytes , to state that last operation successfuly stored\n",
    "# part-00000 - partition files \n",
    "# note the partition file name, part-00000 or other file name \n",
    "# hdfs dfs -cat /word-count-results1/part-00000\n",
    "\n",
    "# use hdfs web ui  http://localhost:50070/"
   ]
  },
  {
   "cell_type": "code",
   "execution_count": 20,
   "id": "140566b7-6034-462f-8d24-ae947f6a51b1",
   "metadata": {},
   "outputs": [],
   "source": [
    "# saveAsTextFile with two partitioned data\n",
    "wordCountRdd.repartition(2)\\\n",
    "            .saveAsTextFile(\"hdfs://localhost:9000/word-count-results2\")"
   ]
  },
  {
   "cell_type": "code",
   "execution_count": null,
   "id": "be3b860a-cd0f-408e-a033-2806dbd2d0c3",
   "metadata": {},
   "outputs": [],
   "source": [
    "# hdfs dfs -ls /word-count-results2\n",
    "# hdfs dfs -cat /word-count-results2/part-00000\n",
    "# hdfs dfs -cat /word-count-results2/part-00001"
   ]
  }
 ],
 "metadata": {
  "kernelspec": {
   "display_name": "Python 3 (ipykernel)",
   "language": "python",
   "name": "python3"
  },
  "language_info": {
   "codemirror_mode": {
    "name": "ipython",
    "version": 3
   },
   "file_extension": ".py",
   "mimetype": "text/x-python",
   "name": "python",
   "nbconvert_exporter": "python",
   "pygments_lexer": "ipython3",
   "version": "3.7.12"
  }
 },
 "nbformat": 4,
 "nbformat_minor": 5
}
