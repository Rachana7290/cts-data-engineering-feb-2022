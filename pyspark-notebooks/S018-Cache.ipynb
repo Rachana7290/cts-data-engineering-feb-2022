{
 "cells": [
  {
   "cell_type": "code",
   "execution_count": 1,
   "id": "2b443d76-f6a2-44bd-a456-b2a8acf0cd17",
   "metadata": {},
   "outputs": [],
   "source": [
    "import findspark\n",
    "findspark.init()"
   ]
  },
  {
   "cell_type": "code",
   "execution_count": 2,
   "id": "e0d42b2e-06eb-42e0-81c1-5efa9ad29094",
   "metadata": {},
   "outputs": [
    {
     "name": "stderr",
     "output_type": "stream",
     "text": [
      "22/03/02 20:02:51 WARN Utils: Your hostname, ubuntu-virtual-machine resolves to a loopback address: 127.0.1.1; using 192.168.80.128 instead (on interface ens33)\n",
      "22/03/02 20:02:51 WARN Utils: Set SPARK_LOCAL_IP if you need to bind to another address\n",
      "22/03/02 20:02:52 WARN NativeCodeLoader: Unable to load native-hadoop library for your platform... using builtin-java classes where applicable\n",
      "Using Spark's default log4j profile: org/apache/spark/log4j-defaults.properties\n",
      "Setting default log level to \"WARN\".\n",
      "To adjust logging level use sc.setLogLevel(newLevel). For SparkR, use setLogLevel(newLevel).\n"
     ]
    }
   ],
   "source": [
    "from pyspark import SparkContext\n",
    "sc = SparkContext(\"local\", \"Cache\")"
   ]
  },
  {
   "cell_type": "code",
   "execution_count": 3,
   "id": "ad76b6a8-2d0f-4830-a7f9-f9c5232420b5",
   "metadata": {},
   "outputs": [],
   "source": [
    "from pyspark import StorageLevel"
   ]
  },
  {
   "cell_type": "code",
   "execution_count": 4,
   "id": "05969d9f-0817-4439-9dbe-6198f2f6c659",
   "metadata": {},
   "outputs": [],
   "source": [
    "wordCountRdd = sc.textFile(\"hdfs://localhost:9000/words.txt\")\\\n",
    "                 .map (lambda line: line.strip().lower())\\\n",
    "                 .map (lambda line: line.split(\" \"))\\\n",
    "                 .flatMap(lambda elements: elements)\\\n",
    "                 .filter (lambda word: word != \"\")\\\n",
    "                 .map (lambda word: (word, 1))\\\n",
    "                 .reduceByKey(lambda acc, value: acc + value)\n"
   ]
  },
  {
   "cell_type": "code",
   "execution_count": 5,
   "id": "7f0e44f6-4d40-4b9e-99a8-f7e0d5c6e798",
   "metadata": {},
   "outputs": [
    {
     "name": "stderr",
     "output_type": "stream",
     "text": [
      "                                                                                \r"
     ]
    },
    {
     "data": {
      "text/plain": [
       "[('spark', 4), ('kafka', 3), ('pyspark', 1), ('apache', 2)]"
      ]
     },
     "execution_count": 5,
     "metadata": {},
     "output_type": "execute_result"
    }
   ],
   "source": [
    "wordCountRdd.collect()"
   ]
  },
  {
   "cell_type": "code",
   "execution_count": null,
   "id": "91608f02-08d4-4206-a56c-f0aacec53dd1",
   "metadata": {},
   "outputs": [],
   "source": []
  }
 ],
 "metadata": {
  "kernelspec": {
   "display_name": "Python 3 (ipykernel)",
   "language": "python",
   "name": "python3"
  },
  "language_info": {
   "codemirror_mode": {
    "name": "ipython",
    "version": 3
   },
   "file_extension": ".py",
   "mimetype": "text/x-python",
   "name": "python",
   "nbconvert_exporter": "python",
   "pygments_lexer": "ipython3",
   "version": "3.7.12"
  }
 },
 "nbformat": 4,
 "nbformat_minor": 5
}
