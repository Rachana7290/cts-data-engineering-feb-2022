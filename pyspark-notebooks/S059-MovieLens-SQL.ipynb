{
 "cells": [
  {
   "cell_type": "code",
   "execution_count": 1,
   "id": "664f0971-f78a-4ae4-980a-df46f1b4d75b",
   "metadata": {},
   "outputs": [],
   "source": [
    "import findspark\n",
    "findspark.init()"
   ]
  },
  {
   "cell_type": "code",
   "execution_count": 2,
   "id": "28ebb0b8-ad19-48d7-9f32-2060f221ee2e",
   "metadata": {},
   "outputs": [],
   "source": [
    "from pyspark.conf import SparkConf\n",
    "config = SparkConf()\n",
    "# config.set(\"property\", \"value\")\n",
    "config.setMaster(\"local\").setAppName(\"MovieLensSQL\")\n",
    "\n",
    "config.set(\"spark.local.dir\", \"/home/ubuntu/spark-temp\")\n",
    "\n",
    "# while using hive.metastore.warehouse.dir, we should not use spark warehouse dir\n",
    "\n",
    "config.set(\"hive.metastore.uris\", \"thrift://localhost:9083\")\n",
    "config.set(\"hive.metastore.warehouse.dir\", \"hdfs://localhost:9000/user/hive/warehouse\")\n",
    "\n",
    "\n",
    "from pyspark.sql import SparkSession\n",
    "# spark Session, entry point for Spark SQL, DataFrame\n",
    "spark = SparkSession.builder\\\n",
    "                    .config(conf=config)\\\n",
    "                    .enableHiveSupport()\\\n",
    "                    .getOrCreate()\n",
    "\n",
    "sc = spark.sparkContext"
   ]
  },
  {
   "cell_type": "code",
   "execution_count": 3,
   "id": "b6f86553-5b30-48a9-9f4d-931584c6e2fe",
   "metadata": {},
   "outputs": [],
   "source": [
    "# hdfs dfs -ls /movies\n",
    "# hdfs dfs -ls /ratings"
   ]
  },
  {
   "cell_type": "code",
   "execution_count": 3,
   "id": "6ab5d029-daae-4445-9ad2-340b8b192bbf",
   "metadata": {},
   "outputs": [],
   "source": [
    "# how to create schema programatically instead of using inferSchema\n",
    "from pyspark.sql.types import StructType, LongType, StringType, IntegerType, DoubleType\n",
    "# True is nullable, False is non nullable\n",
    "movieSchema = StructType()\\\n",
    "                .add(\"movieId\", IntegerType(), True)\\\n",
    "                .add(\"title\", StringType(), True)\\\n",
    "                .add(\"genres\", StringType(), True)\n",
    "\n",
    "ratingSchema = StructType()\\\n",
    "                .add(\"userId\", IntegerType(), True)\\\n",
    "                .add(\"movieId\", IntegerType(), True)\\\n",
    "                .add(\"rating\", DoubleType(), True)\\\n",
    "                .add(\"timestamp\", LongType(), True)\n",
    "\n"
   ]
  },
  {
   "cell_type": "code",
   "execution_count": 4,
   "id": "97e317a4-b640-41cf-be9e-2e9608f01d49",
   "metadata": {},
   "outputs": [
    {
     "name": "stdout",
     "output_type": "stream",
     "text": [
      "root\n",
      " |-- movieId: integer (nullable = true)\n",
      " |-- title: string (nullable = true)\n",
      " |-- genres: string (nullable = true)\n",
      "\n",
      "+-------+----------------+--------------------+\n",
      "|movieId|           title|              genres|\n",
      "+-------+----------------+--------------------+\n",
      "|      1|Toy Story (1995)|Adventure|Animati...|\n",
      "|      2|  Jumanji (1995)|Adventure|Childre...|\n",
      "+-------+----------------+--------------------+\n",
      "only showing top 2 rows\n",
      "\n"
     ]
    }
   ],
   "source": [
    "# read movie data\n",
    "# read using dataframe with defind schema\n",
    "# we can use folder path - all csv in the folder read\n",
    "# use file path, only that file read\n",
    "\n",
    "# spark is session, entry point for data frame/sql\n",
    "\n",
    "movieDf = spark.read.format(\"csv\")\\\n",
    "                .option(\"header\", True)\\\n",
    "                .schema(movieSchema)\\\n",
    "                .load(\"hdfs://localhost:9000/movies\")\n",
    "\n",
    "movieDf.printSchema()\n",
    "movieDf.show(2)"
   ]
  },
  {
   "cell_type": "code",
   "execution_count": 5,
   "id": "77a2c432-0636-4851-8bdb-dc7b8400f231",
   "metadata": {},
   "outputs": [
    {
     "name": "stdout",
     "output_type": "stream",
     "text": [
      "root\n",
      " |-- userId: integer (nullable = true)\n",
      " |-- movieId: integer (nullable = true)\n",
      " |-- rating: double (nullable = true)\n",
      " |-- timestamp: long (nullable = true)\n",
      "\n",
      "+------+-------+------+---------+\n",
      "|userId|movieId|rating|timestamp|\n",
      "+------+-------+------+---------+\n",
      "|     1|      1|   4.0|964982703|\n",
      "|     1|      3|   4.0|964981247|\n",
      "+------+-------+------+---------+\n",
      "only showing top 2 rows\n",
      "\n"
     ]
    }
   ],
   "source": [
    "\n",
    "ratingDf = spark.read.format(\"csv\")\\\n",
    "                .option(\"header\", True)\\\n",
    "                .schema(ratingSchema)\\\n",
    "                .load(\"hdfs://localhost:9000/ratings\")\n",
    "\n",
    "ratingDf.printSchema()\n",
    "ratingDf.show(2)"
   ]
  },
  {
   "cell_type": "code",
   "execution_count": 6,
   "id": "d7d17eaf-aebf-4802-aeb0-8d44f3d8d594",
   "metadata": {},
   "outputs": [
    {
     "name": "stdout",
     "output_type": "stream",
     "text": [
      "+------------+\n",
      "|databaseName|\n",
      "+------------+\n",
      "|    brandsdb|\n",
      "|     default|\n",
      "|     moviedb|\n",
      "|  productsdb|\n",
      "|    removeme|\n",
      "|      testdb|\n",
      "+------------+\n",
      "\n"
     ]
    }
   ],
   "source": [
    "# we haven't configured hive yet\n",
    "spark.sql (\"\"\"\n",
    "SHOW DATABASES\n",
    "\"\"\").show()"
   ]
  },
  {
   "cell_type": "code",
   "execution_count": 7,
   "id": "0fd62aa7-b692-40a7-8851-5dafecd46210",
   "metadata": {},
   "outputs": [],
   "source": [
    "# create a temp table/temp view from data frame\n",
    "movieDf.createOrReplaceTempView(\"movies\")\n",
    "ratingDf.createOrReplaceTempView(\"ratings\")"
   ]
  },
  {
   "cell_type": "code",
   "execution_count": 8,
   "id": "96a0e88a-1f69-4fd7-b73b-4b0eec3ae5f2",
   "metadata": {},
   "outputs": [
    {
     "name": "stdout",
     "output_type": "stream",
     "text": [
      "+--------+----------+-----------+\n",
      "|database| tableName|isTemporary|\n",
      "+--------+----------+-----------+\n",
      "| default|    brands|      false|\n",
      "| default| employees|      false|\n",
      "| default|employees2|      false|\n",
      "| default|  payroles|      false|\n",
      "|        |    movies|       true|\n",
      "|        |   ratings|       true|\n",
      "+--------+----------+-----------+\n",
      "\n"
     ]
    }
   ],
   "source": [
    "# two temp tables shall be listed from default \n",
    "spark.sql(\"SHOW TABLES\").show()"
   ]
  },
  {
   "cell_type": "code",
   "execution_count": 10,
   "id": "e9c243ce-434f-460b-8f62-2d25d7717d9a",
   "metadata": {},
   "outputs": [
    {
     "name": "stdout",
     "output_type": "stream",
     "text": [
      "+-------+--------------------+--------------------+\n",
      "|movieId|               title|              genres|\n",
      "+-------+--------------------+--------------------+\n",
      "|      1|    Toy Story (1995)|Adventure|Animati...|\n",
      "|      2|      Jumanji (1995)|Adventure|Childre...|\n",
      "|      3|Grumpier Old Men ...|      Comedy|Romance|\n",
      "|      4|Waiting to Exhale...|Comedy|Drama|Romance|\n",
      "|      5|Father of the Bri...|              Comedy|\n",
      "+-------+--------------------+--------------------+\n",
      "\n"
     ]
    }
   ],
   "source": [
    "spark.sql(\"\"\"\n",
    "SELECT * FROM movies LIMIT 5\n",
    "\"\"\").show()"
   ]
  },
  {
   "cell_type": "code",
   "execution_count": 11,
   "id": "9c388491-7a94-43f3-a947-072d74940a63",
   "metadata": {},
   "outputs": [
    {
     "name": "stdout",
     "output_type": "stream",
     "text": [
      "+------+-------+------+---------+\n",
      "|userId|movieId|rating|timestamp|\n",
      "+------+-------+------+---------+\n",
      "|     1|      1|   4.0|964982703|\n",
      "|     1|      3|   4.0|964981247|\n",
      "|     1|      6|   4.0|964982224|\n",
      "|     1|     47|   5.0|964983815|\n",
      "|     1|     50|   5.0|964982931|\n",
      "+------+-------+------+---------+\n",
      "\n"
     ]
    }
   ],
   "source": [
    "spark.sql(\"\"\"\n",
    "SELECT * FROM ratings LIMIT 5\n",
    "\"\"\").show()"
   ]
  },
  {
   "cell_type": "code",
   "execution_count": 13,
   "id": "9e44854e-d9e1-4372-9409-b43eedc95e6b",
   "metadata": {},
   "outputs": [
    {
     "name": "stdout",
     "output_type": "stream",
     "text": [
      "root\n",
      " |-- userId: integer (nullable = true)\n",
      " |-- rating: double (nullable = true)\n",
      "\n"
     ]
    },
    {
     "data": {
      "text/plain": [
       "[Row(userId=1, rating=4.0),\n",
       " Row(userId=1, rating=4.0),\n",
       " Row(userId=1, rating=4.0)]"
      ]
     },
     "execution_count": 13,
     "metadata": {},
     "output_type": "execute_result"
    }
   ],
   "source": [
    "# spark sql returns data frame\n",
    "df1 = spark.sql(\"select userId, rating from ratings\")\n",
    "df1.printSchema()\n",
    "df1.rdd.take(3)"
   ]
  },
  {
   "cell_type": "code",
   "execution_count": 14,
   "id": "34db62ea-0476-4d59-a241-58f718646bbd",
   "metadata": {},
   "outputs": [
    {
     "name": "stdout",
     "output_type": "stream",
     "text": [
      "root\n",
      " |-- movieId: integer (nullable = true)\n",
      " |-- avg_rating: double (nullable = true)\n",
      " |-- total_ratings: long (nullable = false)\n",
      "\n",
      "+-------+-----------------+-------------+\n",
      "|movieId|       avg_rating|total_ratings|\n",
      "+-------+-----------------+-------------+\n",
      "|   1580|3.487878787878788|          165|\n",
      "|   2366|             3.64|           25|\n",
      "|   3175|             3.58|           75|\n",
      "|   1088|3.369047619047619|           42|\n",
      "|  32460|             4.25|            4|\n",
      "+-------+-----------------+-------------+\n",
      "only showing top 5 rows\n",
      "\n"
     ]
    }
   ],
   "source": [
    "# Rating Analytics for popular movies\n",
    "\n",
    "popularMoviesDf = spark.sql(\"\"\"\n",
    "SELECT movieId, avg(rating) as avg_rating, count(userId) as total_ratings\n",
    "FROM ratings\n",
    "GROUP BY movieId\n",
    "\"\"\")\n",
    "\n",
    "popularMoviesDf.printSchema()\n",
    "popularMoviesDf.show(5)"
   ]
  },
  {
   "cell_type": "code",
   "execution_count": 9,
   "id": "e5b3f3fb-492f-4fe0-ba56-ceb1ed266845",
   "metadata": {},
   "outputs": [
    {
     "data": {
      "text/plain": [
       "DataFrame[]"
      ]
     },
     "execution_count": 9,
     "metadata": {},
     "output_type": "execute_result"
    }
   ],
   "source": [
    "# Rating Analytics for popular movies\n",
    "# create a temporary view out of SQL SELECT statement\n",
    "# CTAS - CREATE TABLE AS, the popular_movies shall have output analytical query\n",
    "spark.sql(\"\"\"\n",
    "CREATE OR REPLACE TEMP VIEW popular_movies AS\n",
    "SELECT movieId, avg(rating) as avg_rating, count(userId) as total_ratings\n",
    "FROM ratings\n",
    "GROUP BY movieId\n",
    "HAVING avg_rating >= 3.5 AND total_ratings >= 100\n",
    "\"\"\")"
   ]
  },
  {
   "cell_type": "code",
   "execution_count": 10,
   "id": "95adc50a-05bf-4c1b-915f-902e5f0acdb3",
   "metadata": {},
   "outputs": [
    {
     "name": "stdout",
     "output_type": "stream",
     "text": [
      "+--------+--------------+-----------+\n",
      "|database|     tableName|isTemporary|\n",
      "+--------+--------------+-----------+\n",
      "| default|        brands|      false|\n",
      "| default|     employees|      false|\n",
      "| default|    employees2|      false|\n",
      "| default|      payroles|      false|\n",
      "|        |        movies|       true|\n",
      "|        |popular_movies|       true|\n",
      "|        |       ratings|       true|\n",
      "+--------+--------------+-----------+\n",
      "\n"
     ]
    }
   ],
   "source": [
    "spark.sql(\"SHOW TABLES\").show()"
   ]
  },
  {
   "cell_type": "code",
   "execution_count": 24,
   "id": "85b7d834-7ce8-433f-8e4f-003b565525ca",
   "metadata": {},
   "outputs": [
    {
     "name": "stdout",
     "output_type": "stream",
     "text": [
      "+-------+------------------+-------------+\n",
      "|movieId|        avg_rating|total_ratings|\n",
      "+-------+------------------+-------------+\n",
      "|    858|         4.2890625|          192|\n",
      "|   1270| 4.038011695906433|          171|\n",
      "|   1265| 3.944055944055944|          143|\n",
      "|    588|3.7923497267759565|          183|\n",
      "|    296| 4.197068403908795|          307|\n",
      "+-------+------------------+-------------+\n",
      "only showing top 5 rows\n",
      "\n"
     ]
    }
   ],
   "source": [
    "spark.sql(\"SELECT * FROM popular_movies\").show(5)"
   ]
  },
  {
   "cell_type": "code",
   "execution_count": 19,
   "id": "e6411753-67a9-426a-8f73-cfff7ac10a64",
   "metadata": {},
   "outputs": [
    {
     "data": {
      "text/plain": [
       "DataFrame[]"
      ]
     },
     "execution_count": 19,
     "metadata": {},
     "output_type": "execute_result"
    }
   ],
   "source": [
    "# do not run \n",
    "# spark.sql(\"DROP  VIEW popular_movies\")"
   ]
  },
  {
   "cell_type": "code",
   "execution_count": 26,
   "id": "5bd3c625-7e9b-4d32-aeab-6bc5ee6e219d",
   "metadata": {},
   "outputs": [
    {
     "name": "stdout",
     "output_type": "stream",
     "text": [
      "+-------+--------------------+------------------+-------------+\n",
      "|movieId|               title|        avg_rating|total_ratings|\n",
      "+-------+--------------------+------------------+-------------+\n",
      "|    318|Shawshank Redempt...| 4.429022082018927|          317|\n",
      "|    858|Godfather, The (1...|         4.2890625|          192|\n",
      "|   2959|   Fight Club (1999)| 4.272935779816514|          218|\n",
      "|   1221|Godfather: Part I...|  4.25968992248062|          129|\n",
      "|  48516|Departed, The (2006)| 4.252336448598131|          107|\n",
      "|   1213|   Goodfellas (1990)|              4.25|          126|\n",
      "|    912|   Casablanca (1942)|              4.24|          100|\n",
      "|  58559|Dark Knight, The ...| 4.238255033557047|          149|\n",
      "|     50|Usual Suspects, T...| 4.237745098039215|          204|\n",
      "|   1197|Princess Bride, T...| 4.232394366197183|          142|\n",
      "|    260|Star Wars: Episod...| 4.231075697211155|          251|\n",
      "|    527|Schindler's List ...|             4.225|          220|\n",
      "|   1208|Apocalypse Now (1...| 4.219626168224299|          107|\n",
      "|   2329|American History ...| 4.217054263565892|          129|\n",
      "|   1196|Star Wars: Episod...|4.2156398104265405|          211|\n",
      "|   1198|Raiders of the Lo...|            4.2075|          200|\n",
      "|   1193|One Flew Over the...| 4.203007518796992|          133|\n",
      "|   1089|Reservoir Dogs (1...| 4.202290076335878|          131|\n",
      "|    296| Pulp Fiction (1994)| 4.197068403908795|          307|\n",
      "|   2571|  Matrix, The (1999)| 4.192446043165468|          278|\n",
      "+-------+--------------------+------------------+-------------+\n",
      "only showing top 20 rows\n",
      "\n"
     ]
    }
   ],
   "source": [
    "# join to get the movie titles\n",
    "spark.sql(\"\"\"\n",
    "SELECT movies.movieId, title, avg_rating, total_ratings \n",
    "FROM popular_movies\n",
    "INNER JOIN movies ON popular_movies.movieId = movies.movieId\n",
    "ORDER BY avg_rating DESC\n",
    "\"\"\").show()"
   ]
  },
  {
   "cell_type": "code",
   "execution_count": 13,
   "id": "e7fb5fbf-4711-4446-8fb3-5b7aab35310f",
   "metadata": {},
   "outputs": [
    {
     "name": "stdout",
     "output_type": "stream",
     "text": [
      "++\n",
      "||\n",
      "++\n",
      "++\n",
      "\n"
     ]
    }
   ],
   "source": [
    "# CREATE A PERMANENT MANAGED TABLE in HIVE CATALOG\n",
    "# DATA SHALL BE STORED IN /user/hive/warehouse/moviedb.db/popular_movies\n",
    "# CTAS - CREATE TABLE AS SELECT\n",
    "# FIXME\n",
    "spark.sql(\"\"\"\n",
    "CREATE OR REPLACE TEMP VIEW most_popular_movies AS \n",
    "SELECT movies.movieId, title, avg_rating, total_ratings \n",
    "FROM popular_movies\n",
    "INNER JOIN movies ON popular_movies.movieId = movies.movieId\n",
    "ORDER BY avg_rating DESC\n",
    "\"\"\")"
   ]
  },
  {
   "cell_type": "code",
   "execution_count": 22,
   "id": "4677b8f7-6210-4401-9907-a473ed1377a8",
   "metadata": {},
   "outputs": [
    {
     "data": {
      "text/plain": [
       "DataFrame[]"
      ]
     },
     "execution_count": 22,
     "metadata": {},
     "output_type": "execute_result"
    }
   ],
   "source": [
    "# CREATE A PERMANENT MANAGED TABLE in HIVE CATALOG\n",
    "# DATA SHALL BE STORED IN /user/hive/warehouse/moviedb.db/popular_movies\n",
    "# CTAS - CREATE TABLE AS SELECT\n",
    "# FIXME\n",
    "spark.sql(\"\"\"\n",
    "CREATE TABLE most_popular_movies5 AS \n",
    "SELECT movies.movieId, title, avg_rating, total_ratings \n",
    "FROM popular_movies\n",
    "INNER JOIN movies ON popular_movies.movieId = movies.movieId\n",
    "ORDER BY avg_rating DESC\n",
    "\"\"\")"
   ]
  },
  {
   "cell_type": "code",
   "execution_count": 15,
   "id": "6b1e646f-2263-40f3-b22d-59af43065b1f",
   "metadata": {},
   "outputs": [
    {
     "name": "stdout",
     "output_type": "stream",
     "text": [
      "+-------+--------------------+-----------------+-------------+\n",
      "|movieId|               title|       avg_rating|total_ratings|\n",
      "+-------+--------------------+-----------------+-------------+\n",
      "|    318|Shawshank Redempt...|4.429022082018927|          317|\n",
      "|    858|Godfather, The (1...|        4.2890625|          192|\n",
      "|   2959|   Fight Club (1999)|4.272935779816514|          218|\n",
      "|   1221|Godfather: Part I...| 4.25968992248062|          129|\n",
      "|  48516|Departed, The (2006)|4.252336448598131|          107|\n",
      "+-------+--------------------+-----------------+-------------+\n",
      "only showing top 5 rows\n",
      "\n"
     ]
    }
   ],
   "source": [
    "spark.sql(\"SELECT * FROM most_popular_movies\").show(5)"
   ]
  },
  {
   "cell_type": "code",
   "execution_count": 19,
   "id": "f5cc618d-92dd-4068-b32f-bc06cf32c8e2",
   "metadata": {},
   "outputs": [
    {
     "name": "stdout",
     "output_type": "stream",
     "text": [
      "+-------+--------------------+-----------------+-------------+\n",
      "|movieId|               title|       avg_rating|total_ratings|\n",
      "+-------+--------------------+-----------------+-------------+\n",
      "|    318|Shawshank Redempt...|4.429022082018927|          317|\n",
      "|    858|Godfather, The (1...|        4.2890625|          192|\n",
      "|   2959|   Fight Club (1999)|4.272935779816514|          218|\n",
      "|   1221|Godfather: Part I...| 4.25968992248062|          129|\n",
      "|  48516|Departed, The (2006)|4.252336448598131|          107|\n",
      "+-------+--------------------+-----------------+-------------+\n",
      "only showing top 5 rows\n",
      "\n"
     ]
    }
   ],
   "source": [
    "# get dataframe from table/temp view\n",
    "\n",
    "mostPopularMoviesDf = spark.table(\"most_popular_movies\")\n",
    "\n",
    "mostPopularMoviesDf.write\\\n",
    "                    .mode('overwrite')\\\n",
    "                    .saveAsTable(\"moviedb.most_popular_movies\")\n",
    "\n",
    "mostPopularMoviesDf.show(5)"
   ]
  },
  {
   "cell_type": "code",
   "execution_count": 20,
   "id": "1b758a63-e559-4ca9-8895-2bb59f742485",
   "metadata": {},
   "outputs": [
    {
     "name": "stdout",
     "output_type": "stream",
     "text": [
      "+-------+--------------------+------------------+-------------+\n",
      "|movieId|               title|        avg_rating|total_ratings|\n",
      "+-------+--------------------+------------------+-------------+\n",
      "|   4896|Harry Potter and ...|3.7616822429906542|          107|\n",
      "|   1198|Raiders of the Lo...|            4.2075|          200|\n",
      "|    293|Léon: The Profess...| 4.018796992481203|          133|\n",
      "|   6539|Pirates of the Ca...| 3.778523489932886|          149|\n",
      "|   4993|Lord of the Rings...| 4.106060606060606|          198|\n",
      "+-------+--------------------+------------------+-------------+\n",
      "only showing top 5 rows\n",
      "\n"
     ]
    }
   ],
   "source": [
    "spark.sql(\"SELECT * FROM moviedb.most_popular_movies\").show(5)"
   ]
  },
  {
   "cell_type": "code",
   "execution_count": 23,
   "id": "a590c5aa-55e8-4229-a987-a53450786da9",
   "metadata": {},
   "outputs": [
    {
     "name": "stdout",
     "output_type": "stream",
     "text": [
      "+--------+--------------------+-----------+\n",
      "|database|           tableName|isTemporary|\n",
      "+--------+--------------------+-----------+\n",
      "| moviedb| most_popular_movies|      false|\n",
      "| moviedb|most_popular_movies2|      false|\n",
      "| moviedb|              movies|      false|\n",
      "| moviedb|             ratings|      false|\n",
      "| moviedb|             reviews|      false|\n",
      "|        | most_popular_movies|       true|\n",
      "|        |              movies|       true|\n",
      "|        |      popular_movies|       true|\n",
      "|        |             ratings|       true|\n",
      "+--------+--------------------+-----------+\n",
      "\n"
     ]
    }
   ],
   "source": [
    "spark.sql(\"SHOW TABLES IN moviedb\").show()"
   ]
  },
  {
   "cell_type": "code",
   "execution_count": null,
   "id": "983bc2bb-2437-4c2a-b9cd-961c37de43f6",
   "metadata": {},
   "outputs": [],
   "source": [
    "# On Hive cli\n",
    "\n",
    "\"\"\"\n",
    "select * from moviedb.most_popular_movies;\n",
    "\"\"\""
   ]
  }
 ],
 "metadata": {
  "kernelspec": {
   "display_name": "Python 3",
   "language": "python",
   "name": "python3"
  },
  "language_info": {
   "codemirror_mode": {
    "name": "ipython",
    "version": 3
   },
   "file_extension": ".py",
   "mimetype": "text/x-python",
   "name": "python",
   "nbconvert_exporter": "python",
   "pygments_lexer": "ipython3",
   "version": "3.7.12"
  }
 },
 "nbformat": 4,
 "nbformat_minor": 5
}
