{
 "cells": [
  {
   "cell_type": "code",
   "execution_count": 2,
   "id": "a8d1f8ad-a87c-4f1c-ae65-0779d6c05341",
   "metadata": {},
   "outputs": [],
   "source": [
    "import findspark\n",
    "findspark.init()"
   ]
  },
  {
   "cell_type": "code",
   "execution_count": 3,
   "id": "a72fc131-8a50-4f6a-b768-c64ddd9f8c74",
   "metadata": {},
   "outputs": [],
   "source": [
    "from pyspark.conf import SparkConf\n",
    "config = SparkConf()\n",
    "# config.set(\"property\", \"value\")\n",
    "config.setMaster(\"local\").setAppName(\"SparkHiveDatabase\")\n",
    "\n",
    "# centarlized hive meta server\n",
    "# hdfs hive for data warehouse\n",
    "# enable hive support must for sql database\n",
    " \n",
    "config.set(\"spark.local.dir\", \"/home/ubuntu/spark-temp\")\n",
    "\n",
    "# while using hive.metastore.warehouse.dir, we should not use spark warehouse dir\n",
    "\n",
    "config.set(\"hive.metastore.uris\", \"thrift://localhost:9083\")\n",
    "config.set(\"hive.metastore.warehouse.dir\", \"hdfs://localhost:9000/user/hive/warehouse\")\n",
    "\n",
    "\n",
    "from pyspark.sql import SparkSession\n",
    "# spark Session, entry point for Spark SQL, DataFrame\n",
    "\n",
    "# enableHiveSupport() now using hive meta server running as server\n",
    "# multiple notebooks can share hive meta server, work in parallel\n",
    "# we use hive warehouse directory for spark too, this way hive and spark can co-exists\n",
    "# metastore shall have meta data: database, tables, columns, data types, where exactly\n",
    "# data located in hdfs or file system or s3\n",
    "\n",
    "spark = SparkSession.builder\\\n",
    "                    .config(conf=config)\\\n",
    "                    .enableHiveSupport()\\\n",
    "                    .getOrCreate()\n",
    "\n",
    "sc = spark.sparkContext"
   ]
  },
  {
   "cell_type": "code",
   "execution_count": 4,
   "id": "1670f829-b55d-4883-853c-b48e69be9cf1",
   "metadata": {},
   "outputs": [
    {
     "name": "stdout",
     "output_type": "stream",
     "text": [
      "+------------+\n",
      "|databaseName|\n",
      "+------------+\n",
      "|    brandsdb|\n",
      "|     default|\n",
      "|     moviedb|\n",
      "|  productsdb|\n",
      "|    removeme|\n",
      "|      testdb|\n",
      "+------------+\n",
      "\n"
     ]
    }
   ],
   "source": [
    "spark.sql(\"SHOW DATABASES\").show()"
   ]
  },
  {
   "cell_type": "code",
   "execution_count": 5,
   "id": "efc7bb31-1744-4447-8ff2-c18fee63751b",
   "metadata": {},
   "outputs": [
    {
     "name": "stdout",
     "output_type": "stream",
     "text": [
      "+--------+---------+-----------+\n",
      "|database|tableName|isTemporary|\n",
      "+--------+---------+-----------+\n",
      "| moviedb|   movies|      false|\n",
      "| moviedb|  ratings|      false|\n",
      "+--------+---------+-----------+\n",
      "\n"
     ]
    }
   ],
   "source": [
    "spark.sql(\"SHOW TABLES IN moviedb\").show()"
   ]
  },
  {
   "cell_type": "code",
   "execution_count": 6,
   "id": "c603613c-5499-427c-9bd2-a9d6bbaa7ce3",
   "metadata": {},
   "outputs": [
    {
     "name": "stdout",
     "output_type": "stream",
     "text": [
      "+--------+--------------------+--------------------+\n",
      "|movie_id|               title|              genres|\n",
      "+--------+--------------------+--------------------+\n",
      "|    null|               title|              genres|\n",
      "|       1|    Toy Story (1995)|Adventure|Animati...|\n",
      "|       2|      Jumanji (1995)|Adventure|Childre...|\n",
      "|       3|Grumpier Old Men ...|      Comedy|Romance|\n",
      "|       4|Waiting to Exhale...|Comedy|Drama|Romance|\n",
      "|       5|Father of the Bri...|              Comedy|\n",
      "|       6|         Heat (1995)|Action|Crime|Thri...|\n",
      "|       7|      Sabrina (1995)|      Comedy|Romance|\n",
      "|       8| Tom and Huck (1995)|  Adventure|Children|\n",
      "|       9| Sudden Death (1995)|              Action|\n",
      "|      10|    GoldenEye (1995)|Action|Adventure|...|\n",
      "|      11| \"American President|         The (1995)\"|\n",
      "|      12|Dracula: Dead and...|       Comedy|Horror|\n",
      "|      13|        Balto (1995)|Adventure|Animati...|\n",
      "|      14|        Nixon (1995)|               Drama|\n",
      "|      15|Cutthroat Island ...|Action|Adventure|...|\n",
      "|      16|       Casino (1995)|         Crime|Drama|\n",
      "|      17|Sense and Sensibi...|       Drama|Romance|\n",
      "|      18|   Four Rooms (1995)|              Comedy|\n",
      "|      19|Ace Ventura: When...|              Comedy|\n",
      "+--------+--------------------+--------------------+\n",
      "only showing top 20 rows\n",
      "\n"
     ]
    }
   ],
   "source": [
    "spark.sql(\"select * from moviedb.movies\").show()"
   ]
  },
  {
   "cell_type": "code",
   "execution_count": 7,
   "id": "71874c81-3571-47a8-ba42-a6b0d1a9df13",
   "metadata": {},
   "outputs": [
    {
     "data": {
      "text/plain": [
       "DataFrame[]"
      ]
     },
     "execution_count": 7,
     "metadata": {},
     "output_type": "execute_result"
    }
   ],
   "source": [
    "# Location?? /hive/user/warehose/moviedb.db/reviews\n",
    "spark.sql(\"\"\"\n",
    "CREATE TABLE moviedb.reviews(user_id int, movie_id int, comments string)\n",
    "\"\"\"\n",
    ")"
   ]
  },
  {
   "cell_type": "code",
   "execution_count": 9,
   "id": "e318a3df-0b03-4e23-bb00-4aff84b08c35",
   "metadata": {},
   "outputs": [
    {
     "name": "stdout",
     "output_type": "stream",
     "text": [
      "+--------+---------+-----------+\n",
      "|database|tableName|isTemporary|\n",
      "+--------+---------+-----------+\n",
      "| moviedb|   movies|      false|\n",
      "| moviedb|  ratings|      false|\n",
      "| moviedb|  reviews|      false|\n",
      "+--------+---------+-----------+\n",
      "\n"
     ]
    }
   ],
   "source": [
    "spark.sql(\"SHOW TABLES in moviedb\").show()"
   ]
  },
  {
   "cell_type": "code",
   "execution_count": 10,
   "id": "d75e2137-7fd5-4112-8452-461f5c606099",
   "metadata": {},
   "outputs": [
    {
     "data": {
      "text/plain": [
       "DataFrame[]"
      ]
     },
     "execution_count": 10,
     "metadata": {},
     "output_type": "execute_result"
    }
   ],
   "source": [
    "spark.sql(\"\"\"\n",
    "INSERT INTO moviedb.reviews VALUES (1, 1, 'nice movie')\n",
    "\"\"\"\n",
    "         )"
   ]
  },
  {
   "cell_type": "code",
   "execution_count": 11,
   "id": "07eeee7f-e846-4813-83ff-aee75c4992ac",
   "metadata": {},
   "outputs": [
    {
     "name": "stdout",
     "output_type": "stream",
     "text": [
      "+-------+--------+----------+\n",
      "|user_id|movie_id|  comments|\n",
      "+-------+--------+----------+\n",
      "|      1|       1|nice movie|\n",
      "+-------+--------+----------+\n",
      "\n"
     ]
    }
   ],
   "source": [
    "# Spark is a query engine now\n",
    "# spark uses hive meta store as central catalog\n",
    "# spark itself query hdfc, take files, scan records\n",
    "spark.sql(\"SELECT * FROM moviedb.reviews\").show()"
   ]
  },
  {
   "cell_type": "code",
   "execution_count": null,
   "id": "d5511562-de4e-4dd0-8095-12dbda2ce846",
   "metadata": {},
   "outputs": [],
   "source": []
  }
 ],
 "metadata": {
  "kernelspec": {
   "display_name": "Python 3",
   "language": "python",
   "name": "python3"
  },
  "language_info": {
   "codemirror_mode": {
    "name": "ipython",
    "version": 3
   },
   "file_extension": ".py",
   "mimetype": "text/x-python",
   "name": "python",
   "nbconvert_exporter": "python",
   "pygments_lexer": "ipython3",
   "version": "3.7.12"
  }
 },
 "nbformat": 4,
 "nbformat_minor": 5
}
