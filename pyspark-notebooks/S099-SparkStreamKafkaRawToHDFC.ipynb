{
 "cells": [
  {
   "cell_type": "code",
   "execution_count": 1,
   "id": "0103fe44-b5a4-4719-bb80-910322321901",
   "metadata": {},
   "outputs": [],
   "source": [
    "import os\n",
    "# save using vs code\n",
    "SCALA_VERSION = '2.12'\n",
    "SPARK_VERSION = '3.1.3'\n",
    "# Download Kafka Jar file, this for readStream.format(\"kafka\"), \"kafka\" is a driver\n",
    "# kafka driver code is part of Maven Jar file\n",
    "# https://mvnrepository.com/artifact/org.apache.spark/spark-sql-kafka-0-10_2.12/3.1.3\n",
    "# pyspark-shell shall download the jar file behind..\n",
    "os.environ['PYSPARK_SUBMIT_ARGS'] = f'--packages org.apache.spark:spark-sql-kafka-0-10_{SCALA_VERSION}:{SPARK_VERSION} pyspark-shell'\n"
   ]
  },
  {
   "cell_type": "code",
   "execution_count": 2,
   "id": "d6281b34-b38f-4ad4-a23b-aa1577e855de",
   "metadata": {},
   "outputs": [],
   "source": [
    "# import sys\n",
    "# sys.stdout = open(\"/dev/stdout\", \"w\")\n",
    "# print(\"Now my output shall be on terminal, not on my notebook\")"
   ]
  },
  {
   "cell_type": "code",
   "execution_count": 3,
   "id": "db667c20-f744-4de7-baf8-f66c791bedd2",
   "metadata": {},
   "outputs": [],
   "source": [
    "\n",
    "# we use hadoop-vm as hostname, which is running on another system\n",
    "\n",
    "\n",
    "#     kafka-topics  --create --bootstrap-server hadoop-vm:9092 --replication-factor 1 --partitions 1 --topic stock-ticks \n",
    "     "
   ]
  },
  {
   "cell_type": "code",
   "execution_count": 4,
   "id": "919dec5f-9e9d-45d1-ad3b-d9e27f88fad4",
   "metadata": {},
   "outputs": [],
   "source": [
    "import findspark\n",
    "findspark.init()"
   ]
  },
  {
   "cell_type": "code",
   "execution_count": 5,
   "id": "77f9d323-a64a-49a8-a920-03fd268370bc",
   "metadata": {},
   "outputs": [],
   "source": [
    "import pyspark\n",
    "\n",
    "\n",
    "from pyspark.sql import SparkSession\n",
    "# spark groupBy has default setting for spark.sql.shuffle.partitions as 200\n",
    "# we set to  4, should NOT be done in production \n",
    "spark = SparkSession.builder.master(\"local[1]\")\\\n",
    "                            .config('spark.sql.shuffle.partitions', 4)\\\n",
    "                            .appName(\"SparkStreamingKafkaCandles\").getOrCreate()"
   ]
  },
  {
   "cell_type": "code",
   "execution_count": 6,
   "id": "314a572f-dbcd-4efb-a461-ba53f3d03517",
   "metadata": {},
   "outputs": [],
   "source": [
    "# read from kafka, here spark is consumer for kafka topic called test\n",
    "# spark streaming works as dataframe/sql\n",
    "# group.id is consumer group id\n",
    "# subcribe is kafka topic\n",
    "# \"kafka\" driver is not available by default with spark, we need to download it, we did on cell 1\n",
    "# GROUP ID SHOULD BE CHANGED FOR EVERY PERSON \n",
    "kafkaDf = spark.readStream.format(\"kafka\")\\\n",
    "  .option(\"kafka.bootstrap.servers\", \"hadoop-vm:9092\")\\\n",
    "  .option(\"subscribe\", \"stock-ticks\")\\\n",
    "  .option(\"group.id\", \"stock-ticks-group-hdfs\")\\\n",
    "  .load()"
   ]
  },
  {
   "cell_type": "code",
   "execution_count": 7,
   "id": "ad1d4a8c-17d2-4ae0-ad27-4fd3ca63f7cd",
   "metadata": {},
   "outputs": [
    {
     "name": "stdout",
     "output_type": "stream",
     "text": [
      "root\n",
      " |-- key: binary (nullable = true)\n",
      " |-- value: binary (nullable = true)\n",
      " |-- topic: string (nullable = true)\n",
      " |-- partition: integer (nullable = true)\n",
      " |-- offset: long (nullable = true)\n",
      " |-- timestamp: timestamp (nullable = true)\n",
      " |-- timestampType: integer (nullable = true)\n",
      "\n"
     ]
    }
   ],
   "source": [
    "# key and value are binary type, we need to CAST To STRING type\n",
    "kafkaDf.printSchema()\n",
    "# timestampType values\n",
    "# CreateTime:  Timestamp relates to message creation time as set by a Kafka client/producer\n",
    "# LogAppendTime : Timestamp relates to the time a message was appended to a Kafka log.\n",
    "# UnknownType"
   ]
  },
  {
   "cell_type": "code",
   "execution_count": 8,
   "id": "5ca43578-6e31-4605-9921-9c3c90f08214",
   "metadata": {},
   "outputs": [
    {
     "name": "stdout",
     "output_type": "stream",
     "text": [
      "root\n",
      " |-- value: string (nullable = true)\n",
      " |-- timestamp: timestamp (nullable = true)\n",
      "\n"
     ]
    }
   ],
   "source": [
    "# Kafka value, key are in binary format\n",
    "# we need to type cast to STRING, \n",
    "# we pick only value, timestamp as we need for 10 minute window\n",
    "ticksDf = kafkaDf.selectExpr(\"CAST(value AS STRING)\", \"timestamp\")\n",
    "ticksDf.printSchema() # we get only value as string"
   ]
  },
  {
   "cell_type": "code",
   "execution_count": 9,
   "id": "d0acf233-1d99-44c6-a3d8-96add7119f84",
   "metadata": {},
   "outputs": [],
   "source": [
    "\n",
    "# echoOnconsole = ticksDf\\\n",
    "#                 .writeStream\\\n",
    "#                 .outputMode(\"update\")\\\n",
    "#                 .format(\"console\")\\\n",
    "#                 .option(\"truncate\", False)\\\n",
    "#                 .start() # start the query. spark will subscribe for data\n"
   ]
  },
  {
   "cell_type": "code",
   "execution_count": 10,
   "id": "76e74674-a312-48b0-9e4c-d37f7c956ad8",
   "metadata": {},
   "outputs": [],
   "source": [
    "import pyspark.sql.functions as F\n",
    "from pyspark.sql.types import StructField, StructType, DoubleType, StringType, LongType, TimestampType\n",
    "\n",
    "schema = StructType( [\n",
    "    StructField(\"symbol\", StringType(), True),\n",
    "    StructField(\"price\", DoubleType(), True),\n",
    "    StructField(\"volume\", LongType(), True),\n",
    "    StructField(\"timestamp\", LongType(),  True)\n",
    "])"
   ]
  },
  {
   "cell_type": "code",
   "execution_count": 11,
   "id": "cf15d71c-189c-46d2-8470-f98310b5e302",
   "metadata": {},
   "outputs": [
    {
     "name": "stdout",
     "output_type": "stream",
     "text": [
      "root\n",
      " |-- value: struct (nullable = true)\n",
      " |    |-- symbol: string (nullable = true)\n",
      " |    |-- price: double (nullable = true)\n",
      " |    |-- volume: long (nullable = true)\n",
      " |    |-- timestamp: long (nullable = true)\n",
      " |-- timestamp: timestamp (nullable = true)\n",
      "\n"
     ]
    }
   ],
   "source": [
    "# we parse value which is JSON string to kafka struct, \n",
    "# this create a new column [replacing existing value which is string] with type\n",
    "jsonDf = ticksDf.withColumn(\"value\", F.from_json(\"value\", schema))\n",
    "jsonDf.printSchema()"
   ]
  },
  {
   "cell_type": "code",
   "execution_count": 12,
   "id": "679e20a1-cf7c-4add-8d0a-0d62da2c361b",
   "metadata": {},
   "outputs": [
    {
     "name": "stdout",
     "output_type": "stream",
     "text": [
      "root\n",
      " |-- symbol: string (nullable = true)\n",
      " |-- price: double (nullable = true)\n",
      " |-- volume: long (nullable = true)\n",
      " |-- timestamp: long (nullable = true)\n",
      "\n"
     ]
    }
   ],
   "source": [
    "# now extract all the sub fields symbol, price, volume, timestamp into data frame\n",
    "# exisitng value, timestamp shall be removed. existing timestamp is value produced time, not a stock tick time\n",
    "# value.timestamp that comes from producer is basically a event time\n",
    "stockTickDf = jsonDf.select (F.col(\"value.*\")) # extract all sub fields as schema\n",
    "stockTickDf.printSchema()"
   ]
  },
  {
   "cell_type": "code",
   "execution_count": 14,
   "id": "abaaedba-9eed-405f-b363-1d8b9d143bb8",
   "metadata": {},
   "outputs": [],
   "source": [
    "# we have data coming in stream, each record has timestamp\n",
    "# we have milli seconds 1647283268253, the actual seconds Mon Mar 14 2022 14:41:08\n",
    "# now we have to calculate 1 minute window, sum(volume) up to 1 minute\n",
    "# after conversions, we take timestamp which is truncatd to minute instead of milli seconds, drop temp columns\n",
    "stockTickDf = stockTickDf\\\n",
    "                .withColumn(\"timestampTemp\", (F.col(\"timestamp\") / 1000).cast(\"timestamp\"))\\\n",
    "                .withColumn(\"trade_time\", F.date_trunc(\"minute\", F.col(\"timestampTemp\")))\\\n",
    "                .drop(\"timestamp\")\\\n",
    "                .drop(\"timestampTemp\")\\\n",
    "                .withColumnRenamed(\"trade_time\", \"timestamp\")\n",
    "               \n",
    "\n",
    "# echoOnconsole = stockTickDf\\\n",
    "#                 .writeStream\\\n",
    "#                 .outputMode(\"update\")\\\n",
    "#                 .format(\"console\")\\\n",
    "#                 .option(\"truncate\", False)\\\n",
    "#                 .start() # start the query. spark will subscribe for data"
   ]
  },
  {
   "cell_type": "code",
   "execution_count": 15,
   "id": "77aa4c2c-8b8d-4a01-9253-858739d2a0b9",
   "metadata": {},
   "outputs": [
    {
     "data": {
      "text/plain": [
       "<pyspark.sql.streaming.StreamingQuery at 0x7f6bf19ed290>"
      ]
     },
     "execution_count": 15,
     "metadata": {},
     "output_type": "execute_result"
    }
   ],
   "source": [
    "# spark stream with batch output\n",
    "# spark basically process the data as batch\n",
    "# for developer convinence, we have api, that can give us finite data frame for writing to file/jsbc/db/custom coding\n",
    "# process discrete output batch\n",
    "# this function is called for every update/delete/comlete triggers with result data set as dataframe\n",
    "# candleBatchDf is BATCH DATAFRAME\n",
    "# stockTickDf1Min is STREAM DATAFRAME\n",
    "def processBatchData(candleBatchDf, batch_id):\n",
    "    print (\"process batch called\", batch_id, \"writing \", candleBatchDf.count())\n",
    "    # result = candleBatchDf.collect()\n",
    "    # print(result)\n",
    "    # candleBatchDf.show(2)\n",
    "    # write to csv/json/parqeut/database /jdbc etc\n",
    "    # window is nested column, has its children columns called start and end\n",
    "    # start and end are part of nested window column\n",
    "    # append mode will not delete existin data, instead append to existing table\n",
    "    # do the partition, then write the data\n",
    "    (\n",
    "     candleBatchDf\n",
    "        .coalesce(1)\n",
    "        .write\n",
    "        .outputMode(\"append\")\n",
    "        .format(\"csv\")\n",
    "        .option(\"header\", True)\n",
    "         .save( \"hdfs://localhost:9000/dump\")\n",
    "    )\n",
    "    \n",
    "stockTickDf.writeStream.outputMode(\"append\").foreachBatch(processBatchData).start()\n",
    "\n"
   ]
  },
  {
   "cell_type": "code",
   "execution_count": 24,
   "id": "97c8274d-4f0c-40f7-b6d7-320bc9ed200a",
   "metadata": {},
   "outputs": [
    {
     "data": {
      "text/plain": [
       "<pyspark.sql.streaming.StreamingQuery at 0x7f6bf1970e50>"
      ]
     },
     "execution_count": 24,
     "metadata": {},
     "output_type": "execute_result"
    }
   ],
   "source": [
    "import pyspark.sql.functions as F\n",
    "# output DataStreamWriter\n",
    "# copy symbol to _symbol for partition, as spark shall remove the column \n",
    "# if we use  the column in partitionBy\n",
    "\n",
    "(\n",
    "    stockTickDf\n",
    "     .withColumn(\"year\", F.date_format(F.col(\"timestamp\"), \"yyyy\"))\n",
    "     .withColumn(\"month\", F.date_format(F.col(\"timestamp\"), \"MM\"))\n",
    "     .withColumn(\"day\", F.date_format(F.col(\"timestamp\"), \"dd\"))  \n",
    "     .withColumn(\"hour\", F.date_format(F.col(\"timestamp\"), \"HH\"))   \n",
    "     .withColumn(\"_symbol\", F.col(\"symbol\"))   \n",
    "    .writeStream\n",
    "    .trigger(processingTime='65 seconds')\\\n",
    "    .queryName(\"Write Ticks to CSV trigger by 1 min hour\")\n",
    "    .format(\"csv\")\n",
    "    .option(\"path\", \"hdfs://localhost:9000/dump-csv-trigger-hourly-1min\")\n",
    "    .option(\"header\", True)\n",
    "    .option(\"checkpointLocation\", \"hdfs://localhost:9000/checkpoint/tickscsvtohdfs6\")\n",
    "    .partitionBy(\"year\", \"month\", \"day\", \"hour\", \"_symbol\")\n",
    "    .option(\"truncate\", False)\n",
    "    .start()\n",
    ")"
   ]
  },
  {
   "cell_type": "code",
   "execution_count": null,
   "id": "e5ef6900-b646-4f2c-be70-fc4166611b22",
   "metadata": {},
   "outputs": [],
   "source": []
  }
 ],
 "metadata": {
  "kernelspec": {
   "display_name": "Python 3",
   "language": "python",
   "name": "python3"
  },
  "language_info": {
   "codemirror_mode": {
    "name": "ipython",
    "version": 3
   },
   "file_extension": ".py",
   "mimetype": "text/x-python",
   "name": "python",
   "nbconvert_exporter": "python",
   "pygments_lexer": "ipython3",
   "version": "3.7.12"
  }
 },
 "nbformat": 4,
 "nbformat_minor": 5
}
