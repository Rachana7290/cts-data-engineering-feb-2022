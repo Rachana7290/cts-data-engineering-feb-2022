{
 "cells": [
  {
   "cell_type": "code",
   "execution_count": 1,
   "id": "f8aa037a-5ba8-4f41-9cfb-237b94b04e3c",
   "metadata": {},
   "outputs": [],
   "source": [
    "import findspark\n",
    "findspark.init()"
   ]
  },
  {
   "cell_type": "code",
   "execution_count": 3,
   "id": "6c6524d3-5fe9-4a1e-8bb1-9bbf2c104cb8",
   "metadata": {},
   "outputs": [
    {
     "ename": "ValueError",
     "evalue": "Cannot run multiple SparkContexts at once; existing SparkContext(app=SparkRddTuple, master=local) created by __init__ at /tmp/ipykernel_77540/1878123260.py:2 ",
     "output_type": "error",
     "traceback": [
      "\u001b[0;31m---------------------------------------------------------------------------\u001b[0m",
      "\u001b[0;31mValueError\u001b[0m                                Traceback (most recent call last)",
      "\u001b[0;32m/tmp/ipykernel_77540/1878123260.py\u001b[0m in \u001b[0;36m<module>\u001b[0;34m\u001b[0m\n\u001b[1;32m      1\u001b[0m \u001b[0;32mfrom\u001b[0m \u001b[0mpyspark\u001b[0m \u001b[0;32mimport\u001b[0m \u001b[0mSparkContext\u001b[0m\u001b[0;34m\u001b[0m\u001b[0;34m\u001b[0m\u001b[0m\n\u001b[0;32m----> 2\u001b[0;31m \u001b[0msc\u001b[0m \u001b[0;34m=\u001b[0m \u001b[0mSparkContext\u001b[0m\u001b[0;34m(\u001b[0m\u001b[0;34m\"local\"\u001b[0m\u001b[0;34m,\u001b[0m \u001b[0;34m\"SparkRddTuple\"\u001b[0m\u001b[0;34m)\u001b[0m\u001b[0;34m\u001b[0m\u001b[0;34m\u001b[0m\u001b[0m\n\u001b[0m",
      "\u001b[0;32m/opt/spark-2.4.7-bin-hadoop2.7/python/pyspark/context.py\u001b[0m in \u001b[0;36m__init__\u001b[0;34m(self, master, appName, sparkHome, pyFiles, environment, batchSize, serializer, conf, gateway, jsc, profiler_cls)\u001b[0m\n\u001b[1;32m    131\u001b[0m                     \" note this option will be removed in Spark 3.0\")\n\u001b[1;32m    132\u001b[0m \u001b[0;34m\u001b[0m\u001b[0m\n\u001b[0;32m--> 133\u001b[0;31m         \u001b[0mSparkContext\u001b[0m\u001b[0;34m.\u001b[0m\u001b[0m_ensure_initialized\u001b[0m\u001b[0;34m(\u001b[0m\u001b[0mself\u001b[0m\u001b[0;34m,\u001b[0m \u001b[0mgateway\u001b[0m\u001b[0;34m=\u001b[0m\u001b[0mgateway\u001b[0m\u001b[0;34m,\u001b[0m \u001b[0mconf\u001b[0m\u001b[0;34m=\u001b[0m\u001b[0mconf\u001b[0m\u001b[0;34m)\u001b[0m\u001b[0;34m\u001b[0m\u001b[0;34m\u001b[0m\u001b[0m\n\u001b[0m\u001b[1;32m    134\u001b[0m         \u001b[0;32mtry\u001b[0m\u001b[0;34m:\u001b[0m\u001b[0;34m\u001b[0m\u001b[0;34m\u001b[0m\u001b[0m\n\u001b[1;32m    135\u001b[0m             self._do_init(master, appName, sparkHome, pyFiles, environment, batchSize, serializer,\n",
      "\u001b[0;32m/opt/spark-2.4.7-bin-hadoop2.7/python/pyspark/context.py\u001b[0m in \u001b[0;36m_ensure_initialized\u001b[0;34m(cls, instance, gateway, conf)\u001b[0m\n\u001b[1;32m    330\u001b[0m                         \u001b[0;34m\" created by %s at %s:%s \"\u001b[0m\u001b[0;34m\u001b[0m\u001b[0;34m\u001b[0m\u001b[0m\n\u001b[1;32m    331\u001b[0m                         % (currentAppName, currentMaster,\n\u001b[0;32m--> 332\u001b[0;31m                             callsite.function, callsite.file, callsite.linenum))\n\u001b[0m\u001b[1;32m    333\u001b[0m                 \u001b[0;32melse\u001b[0m\u001b[0;34m:\u001b[0m\u001b[0;34m\u001b[0m\u001b[0;34m\u001b[0m\u001b[0m\n\u001b[1;32m    334\u001b[0m                     \u001b[0mSparkContext\u001b[0m\u001b[0;34m.\u001b[0m\u001b[0m_active_spark_context\u001b[0m \u001b[0;34m=\u001b[0m \u001b[0minstance\u001b[0m\u001b[0;34m\u001b[0m\u001b[0;34m\u001b[0m\u001b[0m\n",
      "\u001b[0;31mValueError\u001b[0m: Cannot run multiple SparkContexts at once; existing SparkContext(app=SparkRddTuple, master=local) created by __init__ at /tmp/ipykernel_77540/1878123260.py:2 "
     ]
    }
   ],
   "source": [
    "from pyspark import SparkContext\n",
    "sc = SparkContext(\"local\", \"SparkRddTuple\")"
   ]
  },
  {
   "cell_type": "code",
   "execution_count": 4,
   "id": "199fb0d1-867e-4230-9c41-5ef31aaf011d",
   "metadata": {},
   "outputs": [],
   "source": [
    "stocks = [ # LIST\n",
    "    # Tuple (symbol, open, low, high, close)\n",
    "    ('MSFT', 50, 48, 51, 50.5),\n",
    "     ('FB', 200, 198, 204, 202.3),\n",
    "    ('AMD', 90, 88, 92, 91),\n",
    "    ('TSLA', 100, 90, 90, 100)\n",
    "]\n",
    "rdd = sc.parallelize(stocks)"
   ]
  },
  {
   "cell_type": "code",
   "execution_count": 5,
   "id": "3904c036-3820-45d4-b0f8-5f55af3fb8f7",
   "metadata": {},
   "outputs": [
    {
     "name": "stderr",
     "output_type": "stream",
     "text": [
      "                                                                                \r"
     ]
    },
    {
     "data": {
      "text/plain": [
       "[('MSFT', 50, 48, 51, 50.5),\n",
       " ('AMD', 90, 88, 92, 91),\n",
       " ('TSLA', 100, 90, 90, 100)]"
      ]
     },
     "execution_count": 5,
     "metadata": {},
     "output_type": "execute_result"
    }
   ],
   "source": [
    "# Pick stocks where close price is less than or equal to 100 , stock[4] is close price\n",
    "# stock is tuple\n",
    "rdd2 = rdd.filter (lambda stock: stock[4] <= 100)\n",
    "rdd2.collect()"
   ]
  },
  {
   "cell_type": "code",
   "execution_count": 6,
   "id": "47c018c4-318e-47d0-9639-4ce94a6e02df",
   "metadata": {},
   "outputs": [
    {
     "data": {
      "text/plain": [
       "[0.5, 2.3000000000000114, 1, 0]"
      ]
     },
     "execution_count": 6,
     "metadata": {},
     "output_type": "execute_result"
    }
   ],
   "source": [
    "# find gain for the data\n",
    "# take close price - open price\n",
    "rdd3 = rdd.map (lambda stock: stock[4] - stock[1])\n",
    "rdd3.collect()"
   ]
  },
  {
   "cell_type": "code",
   "execution_count": 8,
   "id": "fde6c721-c93a-465d-89b2-80a481e4f242",
   "metadata": {},
   "outputs": [
    {
     "data": {
      "text/plain": [
       "[('MSFT', 50, 48, 51, 50.5, 0.5),\n",
       " ('FB', 200, 198, 204, 202.3, 2.3000000000000114),\n",
       " ('AMD', 90, 88, 92, 91, 1),\n",
       " ('TSLA', 100, 90, 90, 100, 0)]"
      ]
     },
     "execution_count": 8,
     "metadata": {},
     "output_type": "execute_result"
    }
   ],
   "source": [
    "# find gain for the data, but include all the results, \n",
    "# also include gain as one element\n",
    "# tuple doesn't support mutation\n",
    "# we have to create new tuple and include diff\n",
    "rdd4 = rdd.map (lambda stock: (stock[0], stock[1], stock[2], \n",
    "                               stock[3], stock[4], \n",
    "                               stock[4] - stock[1] # diff\n",
    "                              ))\n",
    "                \n",
    "rdd4.collect()"
   ]
  },
  {
   "cell_type": "code",
   "execution_count": 9,
   "id": "b6159f09-45ff-4cec-a2be-a8069acdff05",
   "metadata": {},
   "outputs": [
    {
     "data": {
      "text/plain": [
       "(1, 2, 3, 'a', 'b', 'c')"
      ]
     },
     "execution_count": 9,
     "metadata": {},
     "output_type": "execute_result"
    }
   ],
   "source": [
    "# add two tuples possible, it will create new tuple\n",
    "(1,2,3) + ('a', 'b', 'c')"
   ]
  },
  {
   "cell_type": "code",
   "execution_count": 10,
   "id": "c67e334e-12fd-414f-9f10-e76efb9ea156",
   "metadata": {},
   "outputs": [
    {
     "data": {
      "text/plain": [
       "[('MSFT', 50, 48, 51, 50.5, 0.5),\n",
       " ('FB', 200, 198, 204, 202.3, 2.3000000000000114),\n",
       " ('AMD', 90, 88, 92, 91, 1),\n",
       " ('TSLA', 100, 90, 90, 100, 0)]"
      ]
     },
     "execution_count": 10,
     "metadata": {},
     "output_type": "execute_result"
    }
   ],
   "source": [
    "# find gain for the data, but include all the results, \n",
    "# also include gain as one element\n",
    "# tuple doesn't support mutation\n",
    "# we have to create new tuple and include diff\n",
    "# refactor\n",
    "# COMMA , is MUST if we make tuple with 1 element in Python\n",
    "rdd4 = rdd.map (lambda stock: stock + (stock[4] - stock[1],))\n",
    "                \n",
    "rdd4.collect()"
   ]
  },
  {
   "cell_type": "code",
   "execution_count": null,
   "id": "b6cbbbcb-7b5a-46f0-855b-a2c7bbeec62d",
   "metadata": {},
   "outputs": [],
   "source": []
  }
 ],
 "metadata": {
  "kernelspec": {
   "display_name": "Python 3 (ipykernel)",
   "language": "python",
   "name": "python3"
  },
  "language_info": {
   "codemirror_mode": {
    "name": "ipython",
    "version": 3
   },
   "file_extension": ".py",
   "mimetype": "text/x-python",
   "name": "python",
   "nbconvert_exporter": "python",
   "pygments_lexer": "ipython3",
   "version": "3.7.12"
  }
 },
 "nbformat": 4,
 "nbformat_minor": 5
}
