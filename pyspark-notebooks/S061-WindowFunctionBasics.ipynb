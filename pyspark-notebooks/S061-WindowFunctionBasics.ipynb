{
 "cells": [
  {
   "cell_type": "code",
   "execution_count": 1,
   "id": "3c263da4-f31e-4a59-b73b-9cb13782c72f",
   "metadata": {},
   "outputs": [],
   "source": [
    "import findspark\n",
    "findspark.init()"
   ]
  },
  {
   "cell_type": "code",
   "execution_count": 2,
   "id": "3f4dd265-5fcb-4cb3-8daf-dec4e199fb4a",
   "metadata": {},
   "outputs": [],
   "source": [
    "from pyspark.conf import SparkConf\n",
    "config = SparkConf()\n",
    "# config.set(\"property\", \"value\")\n",
    "config.setMaster(\"local[4]\").setAppName(\"WindowFunction\")\n",
    "\n",
    "from pyspark.sql import SparkSession\n",
    "# spark Session, entry point for Spark SQL, DataFrame\n",
    "spark = SparkSession.builder\\\n",
    "                    .config(conf=config)\\\n",
    "                    .getOrCreate()\n",
    "\n",
    "sc = spark.sparkContext"
   ]
  },
  {
   "cell_type": "code",
   "execution_count": 3,
   "id": "4cdc5634-8961-4124-b8ab-977c3f9ed808",
   "metadata": {},
   "outputs": [
    {
     "name": "stdout",
     "output_type": "stream",
     "text": [
      "root\n",
      " |-- name: string (nullable = true)\n",
      " |-- dept: string (nullable = true)\n",
      " |-- salary: long (nullable = true)\n",
      "\n",
      "+-------+---------+------+\n",
      "|   name|     dept|salary|\n",
      "+-------+---------+------+\n",
      "|  James|    Sales|  3000|\n",
      "|Michael|    Sales|  4600|\n",
      "| Robert|    Sales|  4100|\n",
      "|  Maria|  Finance|  3000|\n",
      "|  James|    Sales|  3000|\n",
      "|  Scott|  Finance|  3300|\n",
      "|    Jen|  Finance|  3900|\n",
      "|   Jeff|Marketing|  3000|\n",
      "|  Kumar|Marketing|  2000|\n",
      "|   Saif|    Sales|  4100|\n",
      "+-------+---------+------+\n",
      "\n"
     ]
    },
    {
     "data": {
      "text/plain": [
       "4"
      ]
     },
     "execution_count": 3,
     "metadata": {},
     "output_type": "execute_result"
    }
   ],
   "source": [
    "data = [ (\"James\", \"Sales\", 3000),\n",
    "    (\"Michael\", \"Sales\", 4600),\n",
    "    (\"Robert\", \"Sales\", 4100),\n",
    "    (\"Maria\", \"Finance\", 3000),\n",
    "    (\"James\", \"Sales\", 3000),\n",
    "    (\"Scott\", \"Finance\", 3300),\n",
    "    (\"Jen\", \"Finance\", 3900),\n",
    "    (\"Jeff\", \"Marketing\", 3000),\n",
    "    (\"Kumar\", \"Marketing\", 2000),\n",
    "    (\"Saif\", \"Sales\", 4100)\n",
    "   ]\n",
    "\n",
    "empDf = spark.createDataFrame(data=data, schema=['name', 'dept', 'salary'])\n",
    "empDf.printSchema()\n",
    "empDf.show()\n",
    "\n",
    "empDf.rdd.getNumPartitions()"
   ]
  },
  {
   "cell_type": "code",
   "execution_count": 4,
   "id": "ba9b44f9-7c73-4f86-84b5-2e31eb562ea6",
   "metadata": {},
   "outputs": [
    {
     "data": {
      "text/plain": [
       "[[Row(name='James', dept='Sales', salary=3000),\n",
       "  Row(name='Michael', dept='Sales', salary=4600)],\n",
       " [Row(name='Robert', dept='Sales', salary=4100),\n",
       "  Row(name='Maria', dept='Finance', salary=3000)],\n",
       " [Row(name='James', dept='Sales', salary=3000),\n",
       "  Row(name='Scott', dept='Finance', salary=3300)],\n",
       " [Row(name='Jen', dept='Finance', salary=3900),\n",
       "  Row(name='Jeff', dept='Marketing', salary=3000),\n",
       "  Row(name='Kumar', dept='Marketing', salary=2000),\n",
       "  Row(name='Saif', dept='Sales', salary=4100)]]"
      ]
     },
     "execution_count": 4,
     "metadata": {},
     "output_type": "execute_result"
    }
   ],
   "source": [
    "empDf.rdd.glom().collect()"
   ]
  },
  {
   "cell_type": "code",
   "execution_count": 8,
   "id": "a10e3c6b-c67e-44ff-9bd0-8e89cec38eac",
   "metadata": {},
   "outputs": [],
   "source": [
    "empDf.write.option(\"header\", True)\\\n",
    "  .partitionBy(\"dept\")\\\n",
    "  .csv(\"/home/ubuntu/employees\")"
   ]
  },
  {
   "cell_type": "code",
   "execution_count": 9,
   "id": "382de0b4-4b9d-4863-834e-f88b39c326ea",
   "metadata": {},
   "outputs": [
    {
     "name": "stdout",
     "output_type": "stream",
     "text": [
      "root\n",
      " |-- name: string (nullable = true)\n",
      " |-- dept: string (nullable = true)\n",
      " |-- salary: long (nullable = true)\n",
      " |-- row_number: integer (nullable = true)\n",
      "\n",
      "+-------+---------+------+----------+\n",
      "|   name|     dept|salary|row_number|\n",
      "+-------+---------+------+----------+\n",
      "|  James|    Sales|  3000|         1|\n",
      "|  James|    Sales|  3000|         2|\n",
      "| Robert|    Sales|  4100|         3|\n",
      "|   Saif|    Sales|  4100|         4|\n",
      "|Michael|    Sales|  4600|         5|\n",
      "|  Maria|  Finance|  3000|         1|\n",
      "|  Scott|  Finance|  3300|         2|\n",
      "|    Jen|  Finance|  3900|         3|\n",
      "|  Kumar|Marketing|  2000|         1|\n",
      "|   Jeff|Marketing|  3000|         2|\n",
      "+-------+---------+------+----------+\n",
      "\n"
     ]
    }
   ],
   "source": [
    "from pyspark.sql.window import Window\n",
    "from pyspark.sql.functions import row_number\n",
    "\n",
    "# specification for window, partitions, functions that should be applied on partition\n",
    "# with in department, order the data based on salary in ascending order\n",
    "windowSpec = Window.partitionBy(\"dept\").orderBy(\"salary\")\n",
    "# we have apply the spec on dataframe\n",
    "df = empDf.withColumn(\"row_number\", row_number().over(windowSpec))\n",
    "\n",
    "df.printSchema()\n",
    "df.show()"
   ]
  },
  {
   "cell_type": "code",
   "execution_count": 10,
   "id": "b6027789-7a35-41ce-a49c-91771cf636f6",
   "metadata": {},
   "outputs": [
    {
     "name": "stdout",
     "output_type": "stream",
     "text": [
      "+-------+---------+------+----+\n",
      "|   name|     dept|salary|rank|\n",
      "+-------+---------+------+----+\n",
      "|  James|    Sales|  3000|   1|\n",
      "|  James|    Sales|  3000|   1|\n",
      "| Robert|    Sales|  4100|   3|\n",
      "|   Saif|    Sales|  4100|   3|\n",
      "|Michael|    Sales|  4600|   5|\n",
      "|  Maria|  Finance|  3000|   1|\n",
      "|  Scott|  Finance|  3300|   2|\n",
      "|    Jen|  Finance|  3900|   3|\n",
      "|  Kumar|Marketing|  2000|   1|\n",
      "|   Jeff|Marketing|  3000|   2|\n",
      "+-------+---------+------+----+\n",
      "\n"
     ]
    }
   ],
   "source": [
    "from pyspark.sql.window import Window\n",
    "from pyspark.sql.functions import rank\n",
    "\n",
    "# rank with gap with ascending order\n",
    "\"\"\"\n",
    "score  rank\n",
    "90      1\n",
    "90      1\n",
    "89      3  [gap, 2 not included]\n",
    "\"\"\"\n",
    "windowSpec = Window.partitionBy(\"dept\").orderBy(\"salary\")\n",
    "\n",
    "df = empDf.withColumn(\"rank\", rank().over(windowSpec))\n",
    "df.show()"
   ]
  },
  {
   "cell_type": "code",
   "execution_count": 11,
   "id": "a73199cb-c0ac-4179-88b4-f27156a6f1b5",
   "metadata": {},
   "outputs": [
    {
     "name": "stdout",
     "output_type": "stream",
     "text": [
      "+-------+---------+------+----+\n",
      "|   name|     dept|salary|rank|\n",
      "+-------+---------+------+----+\n",
      "|Michael|    Sales|  4600|   1|\n",
      "| Robert|    Sales|  4100|   2|\n",
      "|   Saif|    Sales|  4100|   2|\n",
      "|  James|    Sales|  3000|   4|\n",
      "|  James|    Sales|  3000|   4|\n",
      "|    Jen|  Finance|  3900|   1|\n",
      "|  Scott|  Finance|  3300|   2|\n",
      "|  Maria|  Finance|  3000|   3|\n",
      "|   Jeff|Marketing|  3000|   1|\n",
      "|  Kumar|Marketing|  2000|   2|\n",
      "+-------+---------+------+----+\n",
      "\n"
     ]
    }
   ],
   "source": [
    "from pyspark.sql.window import Window\n",
    "from pyspark.sql.functions import rank, desc\n",
    "\n",
    "# rank with gap\n",
    "\"\"\"\n",
    "score  rank\n",
    "90      1\n",
    "90      1\n",
    "89      3  [gap, 2 not included]\n",
    "\"\"\"\n",
    "windowSpec = Window.partitionBy(\"dept\").orderBy(desc(\"salary\"))\n",
    "\n",
    "df = empDf.withColumn(\"rank\", rank().over(windowSpec))\n",
    "df.show()"
   ]
  },
  {
   "cell_type": "code",
   "execution_count": 12,
   "id": "778f4962-6743-4904-a1db-df8fbad2ffa0",
   "metadata": {},
   "outputs": [
    {
     "name": "stdout",
     "output_type": "stream",
     "text": [
      "+-------+---------+------+----+\n",
      "|   name|     dept|salary|rank|\n",
      "+-------+---------+------+----+\n",
      "|Michael|    Sales|  4600|   1|\n",
      "| Robert|    Sales|  4100|   2|\n",
      "|   Saif|    Sales|  4100|   2|\n",
      "|  James|    Sales|  3000|   3|\n",
      "|  James|    Sales|  3000|   3|\n",
      "|    Jen|  Finance|  3900|   1|\n",
      "|  Scott|  Finance|  3300|   2|\n",
      "|  Maria|  Finance|  3000|   3|\n",
      "|   Jeff|Marketing|  3000|   1|\n",
      "|  Kumar|Marketing|  2000|   2|\n",
      "+-------+---------+------+----+\n",
      "\n"
     ]
    }
   ],
   "source": [
    "from pyspark.sql.window import Window\n",
    "from pyspark.sql.functions import dense_rank, desc\n",
    "\n",
    "# dense_rank ranking without gap\n",
    "\"\"\"\n",
    "score  rank\n",
    "90      1\n",
    "90      1\n",
    "89      2  \n",
    "\"\"\"\n",
    "windowSpec = Window.partitionBy(\"dept\").orderBy(desc(\"salary\"))\n",
    "\n",
    "df = empDf.withColumn(\"rank\", dense_rank().over(windowSpec))\n",
    "df.show()"
   ]
  },
  {
   "cell_type": "code",
   "execution_count": 13,
   "id": "b04f2765-07f2-430e-89e0-8601d7de311b",
   "metadata": {},
   "outputs": [
    {
     "name": "stdout",
     "output_type": "stream",
     "text": [
      "+-------+---------+------+----+\n",
      "|   name|     dept|salary|rank|\n",
      "+-------+---------+------+----+\n",
      "|Michael|    Sales|  4600| 0.0|\n",
      "| Robert|    Sales|  4100|0.25|\n",
      "|   Saif|    Sales|  4100|0.25|\n",
      "|  James|    Sales|  3000|0.75|\n",
      "|  James|    Sales|  3000|0.75|\n",
      "|    Jen|  Finance|  3900| 0.0|\n",
      "|  Scott|  Finance|  3300| 0.5|\n",
      "|  Maria|  Finance|  3000| 1.0|\n",
      "|   Jeff|Marketing|  3000| 0.0|\n",
      "|  Kumar|Marketing|  2000| 1.0|\n",
      "+-------+---------+------+----+\n",
      "\n"
     ]
    }
   ],
   "source": [
    "from pyspark.sql.window import Window\n",
    "from pyspark.sql.functions import percent_rank, desc\n",
    "\n",
    "# percent_rank ranking with perecent calculation\n",
    "\"\"\"\n",
    " \n",
    "\"\"\"\n",
    "windowSpec = Window.partitionBy(\"dept\").orderBy(desc(\"salary\"))\n",
    "\n",
    "df = empDf.withColumn(\"rank\", percent_rank().over(windowSpec))\n",
    "df.show()"
   ]
  },
  {
   "cell_type": "code",
   "execution_count": 17,
   "id": "130d5a73-1b5f-4abc-87bc-fa2aca5ba060",
   "metadata": {},
   "outputs": [
    {
     "name": "stdout",
     "output_type": "stream",
     "text": [
      "+-------+---------+------+----+\n",
      "|   name|     dept|salary|rank|\n",
      "+-------+---------+------+----+\n",
      "|Michael|    Sales|  4600|   1|\n",
      "| Robert|    Sales|  4100|   1|\n",
      "|   Saif|    Sales|  4100|   2|\n",
      "|  James|    Sales|  3000|   2|\n",
      "|  James|    Sales|  3000|   3|\n",
      "|    Jen|  Finance|  3900|   1|\n",
      "|  Scott|  Finance|  3300|   2|\n",
      "|  Maria|  Finance|  3000|   3|\n",
      "|   Jeff|Marketing|  3000|   1|\n",
      "|  Kumar|Marketing|  2000|   2|\n",
      "+-------+---------+------+----+\n",
      "\n"
     ]
    }
   ],
   "source": [
    "from pyspark.sql.window import Window\n",
    "from pyspark.sql.functions import ntile, desc\n",
    "\n",
    "# ntile ranking with related certain range for range\n",
    "# rank shall fit into a range\n",
    "\"\"\"\n",
    " \n",
    "\"\"\"\n",
    "windowSpec = Window.partitionBy(\"dept\").orderBy(desc(\"salary\"))\n",
    "\n",
    "df = empDf.withColumn(\"rank\", ntile(3).over(windowSpec))\n",
    "df.show()"
   ]
  },
  {
   "cell_type": "code",
   "execution_count": 18,
   "id": "b3790efb-059e-4368-bb98-26384e856aa0",
   "metadata": {},
   "outputs": [
    {
     "name": "stdout",
     "output_type": "stream",
     "text": [
      "+-------+---------+------+------------------+\n",
      "|   name|     dept|salary|         cume_dist|\n",
      "+-------+---------+------+------------------+\n",
      "|Michael|    Sales|  4600|               0.2|\n",
      "| Robert|    Sales|  4100|               0.6|\n",
      "|   Saif|    Sales|  4100|               0.6|\n",
      "|  James|    Sales|  3000|               1.0|\n",
      "|  James|    Sales|  3000|               1.0|\n",
      "|    Jen|  Finance|  3900|0.3333333333333333|\n",
      "|  Scott|  Finance|  3300|0.6666666666666666|\n",
      "|  Maria|  Finance|  3000|               1.0|\n",
      "|   Jeff|Marketing|  3000|               0.5|\n",
      "|  Kumar|Marketing|  2000|               1.0|\n",
      "+-------+---------+------+------------------+\n",
      "\n"
     ]
    }
   ],
   "source": [
    "# Analytic functions\n",
    "# Cumulative distribution - similar to rank, calcualted and values are bound between \n",
    "# 0 and 1\n",
    "\n",
    "# 10 USD per share => 13 USD per share      = 3 USD per share, 30 % gain .3\n",
    "# 100 USD per share => 110 USD per share    = 10 USD per share, 10% gain .1\n",
    "# cumulative distribution\n",
    "from pyspark.sql.window import Window\n",
    "from pyspark.sql.functions import cume_dist, desc\n",
    "\n",
    "# similar to  rank  \n",
    " \n",
    "windowSpec = Window.partitionBy(\"dept\").orderBy(desc(\"salary\"))\n",
    "\n",
    "df = empDf.withColumn(\"cume_dist\", cume_dist().over(windowSpec))\n",
    "df.show()\n"
   ]
  },
  {
   "cell_type": "code",
   "execution_count": 25,
   "id": "5aac1eec-b5e0-49cd-a5ea-cb52b75952b2",
   "metadata": {},
   "outputs": [
    {
     "name": "stdout",
     "output_type": "stream",
     "text": [
      "+-------+---------+------+----+\n",
      "|   name|     dept|salary| lag|\n",
      "+-------+---------+------+----+\n",
      "|  James|    Sales|  3000|null|\n",
      "|  James|    Sales|  3000|3000|\n",
      "| Robert|    Sales|  4100|3000|\n",
      "|   Saif|    Sales|  4100|4100|\n",
      "|Michael|    Sales|  4600|4100|\n",
      "|  Maria|  Finance|  3000|null|\n",
      "|  Scott|  Finance|  3300|3000|\n",
      "|    Jen|  Finance|  3900|3300|\n",
      "|  Kumar|Marketing|  2000|null|\n",
      "|   Jeff|Marketing|  3000|2000|\n",
      "+-------+---------+------+----+\n",
      "\n"
     ]
    }
   ],
   "source": [
    "# lag - previous lag\n",
    "from pyspark.sql.window import Window\n",
    "from pyspark.sql.functions import lag, desc\n",
    "\n",
    "windowSpec = Window.partitionBy(\"dept\").orderBy(\"salary\")\n",
    "\n",
    "df = empDf.withColumn(\"lag\", lag(\"salary\",1).over(windowSpec))\n",
    "df.show()"
   ]
  },
  {
   "cell_type": "code",
   "execution_count": 28,
   "id": "610d607b-1dbf-45d1-85f4-e0424df79ff7",
   "metadata": {},
   "outputs": [
    {
     "name": "stdout",
     "output_type": "stream",
     "text": [
      "+-------+---------+------+----+\n",
      "|   name|     dept|salary|lead|\n",
      "+-------+---------+------+----+\n",
      "|  James|    Sales|  3000|3000|\n",
      "|  James|    Sales|  3000|4100|\n",
      "| Robert|    Sales|  4100|4100|\n",
      "|   Saif|    Sales|  4100|4600|\n",
      "|Michael|    Sales|  4600|null|\n",
      "|  Maria|  Finance|  3000|3300|\n",
      "|  Scott|  Finance|  3300|3900|\n",
      "|    Jen|  Finance|  3900|null|\n",
      "|  Kumar|Marketing|  2000|3000|\n",
      "|   Jeff|Marketing|  3000|null|\n",
      "+-------+---------+------+----+\n",
      "\n"
     ]
    }
   ],
   "source": [
    "# lead -  the one ahead, \n",
    "from pyspark.sql.window import Window\n",
    "from pyspark.sql.functions import lead, desc\n",
    "\n",
    "windowSpec = Window.partitionBy(\"dept\").orderBy(\"salary\")\n",
    "\n",
    "df = empDf.withColumn(\"lead\", lead(\"salary\",1).over(windowSpec))\n",
    "df.show()"
   ]
  },
  {
   "cell_type": "code",
   "execution_count": 32,
   "id": "a596854a-e90a-40ac-8a0b-cb99d162bf7f",
   "metadata": {},
   "outputs": [
    {
     "name": "stdout",
     "output_type": "stream",
     "text": [
      "+---------+------+----+----+------+-----+-----+\n",
      "|     dept|salary| min| max|   avg|count|  sum|\n",
      "+---------+------+----+----+------+-----+-----+\n",
      "|    Sales|  3000|3000|4600|3760.0|    5|18800|\n",
      "|    Sales|  4600|3000|4600|3760.0|    5|18800|\n",
      "|    Sales|  4100|3000|4600|3760.0|    5|18800|\n",
      "|    Sales|  3000|3000|4600|3760.0|    5|18800|\n",
      "|    Sales|  4100|3000|4600|3760.0|    5|18800|\n",
      "|  Finance|  3000|3000|3900|3400.0|    3|10200|\n",
      "|  Finance|  3300|3000|3900|3400.0|    3|10200|\n",
      "|  Finance|  3900|3000|3900|3400.0|    3|10200|\n",
      "|Marketing|  3000|2000|3000|2500.0|    2| 5000|\n",
      "|Marketing|  2000|2000|3000|2500.0|    2| 5000|\n",
      "+---------+------+----+----+------+-----+-----+\n",
      "\n"
     ]
    }
   ],
   "source": [
    "# aggregate functions, min, max, sum, count, avg\n",
    "\n",
    "# lead -  the one ahead, \n",
    "from pyspark.sql.window import Window\n",
    "from pyspark.sql.functions import avg, sum, min, max, count, col\n",
    "\n",
    "windowSpec = Window.partitionBy(\"dept\")\n",
    "\n",
    "df = empDf.drop(\"name\")\\\n",
    "          .withColumn(\"min\", min(col(\"salary\")).over(windowSpec))\\\n",
    "          .withColumn(\"max\", max(col(\"salary\")).over(windowSpec))\\\n",
    "          .withColumn(\"avg\", avg(col(\"salary\")).over(windowSpec))\\\n",
    "          .withColumn(\"count\", count(col(\"salary\")).over(windowSpec))\\\n",
    "          .withColumn(\"sum\", sum(col(\"salary\")).over(windowSpec))\n",
    "\n",
    "df.show()"
   ]
  },
  {
   "cell_type": "code",
   "execution_count": 43,
   "id": "2636c538-9964-4cfe-901f-f64a531c29da",
   "metadata": {},
   "outputs": [
    {
     "name": "stdout",
     "output_type": "stream",
     "text": [
      "+---------+------+----------+----+----+-----------------+-----+-----+\n",
      "|     dept|salary|row_number| min| max|              avg|count|  sum|\n",
      "+---------+------+----------+----+----+-----------------+-----+-----+\n",
      "|    Sales|  4600|         1|4600|4600|           4600.0|    1| 4600|\n",
      "|    Sales|  4100|         2|4100|4600|4266.666666666667|    3|12800|\n",
      "|    Sales|  4100|         3|4100|4600|4266.666666666667|    3|12800|\n",
      "|    Sales|  3000|         4|3000|4600|           3760.0|    5|18800|\n",
      "|    Sales|  3000|         5|3000|4600|           3760.0|    5|18800|\n",
      "|  Finance|  3900|         1|3900|3900|           3900.0|    1| 3900|\n",
      "|  Finance|  3300|         2|3300|3900|           3600.0|    2| 7200|\n",
      "|  Finance|  3000|         3|3000|3900|           3400.0|    3|10200|\n",
      "|Marketing|  3000|         1|3000|3000|           3000.0|    1| 3000|\n",
      "|Marketing|  2000|         2|2000|3000|           2500.0|    2| 5000|\n",
      "+---------+------+----------+----+----+-----------------+-----+-----+\n",
      "\n"
     ]
    }
   ],
   "source": [
    "# aggregate functions, min, max, sum, count, avg\n",
    " \n",
    "from pyspark.sql.window import Window\n",
    "from pyspark.sql.functions import avg, sum, min, max, count, col\n",
    "# FIXME\n",
    "windowSpec = Window.partitionBy(\"dept\").orderBy(desc(\"salary\"))\n",
    "\n",
    "df = empDf.drop(\"name\")\\\n",
    "          .withColumn(\"row_number\",  row_number().over(windowSpec))\\\n",
    "          .withColumn(\"min\", min(col(\"salary\")).over(windowSpec))\\\n",
    "          .withColumn(\"max\", max(col(\"salary\")).over(windowSpec))\\\n",
    "          .withColumn(\"avg\", avg(col(\"salary\")).over(windowSpec))\\\n",
    "          .withColumn(\"count\", count(col(\"salary\")).over(windowSpec))\\\n",
    "          .withColumn(\"sum\", sum(col(\"salary\")).over(windowSpec))\n",
    "          \n",
    "\n",
    "df.show()"
   ]
  },
  {
   "cell_type": "code",
   "execution_count": null,
   "id": "dea5a80a-9f14-4b08-b98d-acf33cc7f76f",
   "metadata": {},
   "outputs": [],
   "source": []
  }
 ],
 "metadata": {
  "kernelspec": {
   "display_name": "Python 3",
   "language": "python",
   "name": "python3"
  },
  "language_info": {
   "codemirror_mode": {
    "name": "ipython",
    "version": 3
   },
   "file_extension": ".py",
   "mimetype": "text/x-python",
   "name": "python",
   "nbconvert_exporter": "python",
   "pygments_lexer": "ipython3",
   "version": "3.7.12"
  }
 },
 "nbformat": 4,
 "nbformat_minor": 5
}
