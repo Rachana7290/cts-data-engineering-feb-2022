{
 "cells": [
  {
   "cell_type": "code",
   "execution_count": 1,
   "id": "04d6186c-80c6-4dec-bc80-33ed09f15004",
   "metadata": {},
   "outputs": [],
   "source": [
    "import findspark\n",
    "findspark.init()"
   ]
  },
  {
   "cell_type": "code",
   "execution_count": 2,
   "id": "d9c9321a-6d86-42c6-a425-fde761946d9b",
   "metadata": {},
   "outputs": [],
   "source": [
    "from pyspark.conf import SparkConf\n",
    "config = SparkConf()\n",
    "# config.set(\"property\", \"value\")\n",
    "config.setMaster(\"local\").setAppName(\"HelloSparkSession\")\n",
    "\n",
    "from pyspark.sql import SparkSession\n",
    "# spark Session, entry point for Spark SQL, DataFrame\n",
    "spark = SparkSession.builder\\\n",
    "                    .config(conf=config)\\\n",
    "                    .getOrCreate()\n",
    "\n",
    "sc = spark.sparkContext"
   ]
  },
  {
   "cell_type": "code",
   "execution_count": 4,
   "id": "327de8e6-415a-4668-9e3d-75d7cca08223",
   "metadata": {},
   "outputs": [
    {
     "name": "stdout",
     "output_type": "stream",
     "text": [
      "root\n",
      " |-- Company Name: string (nullable = true)\n",
      " |-- Industry: string (nullable = true)\n",
      " |-- Symbol: string (nullable = true)\n",
      " |-- Series: string (nullable = true)\n",
      " |-- ISIN Code: string (nullable = true)\n",
      "\n",
      "+------------------+------------------+----------+------+------------+\n",
      "|      Company Name|          Industry|    Symbol|Series|   ISIN Code|\n",
      "+------------------+------------------+----------+------+------------+\n",
      "|    Axis Bank Ltd.|FINANCIAL SERVICES|  AXISBANK|    EQ|INE238A01034|\n",
      "|Bajaj Finance Ltd.|FINANCIAL SERVICES|BAJFINANCE|    EQ|INE296A01024|\n",
      "+------------------+------------------+----------+------+------------+\n",
      "only showing top 2 rows\n",
      "\n"
     ]
    }
   ],
   "source": [
    "sectorDf =  ( spark.read\n",
    "                    .format(\"csv\")\n",
    "                    .option(\"header\", True)\n",
    "                    .option(\"inferSchema\", True)\n",
    "                    .option(\"delimitter\", \",\")\n",
    "                    .load(\"hdfs://localhost:9000/stocks/sectors\")\n",
    "            )\n",
    "sectorDf.printSchema()\n",
    "sectorDf.show(2)"
   ]
  },
  {
   "cell_type": "code",
   "execution_count": 18,
   "id": "65299338-ca4d-4ab0-a345-faeca7a69fac",
   "metadata": {},
   "outputs": [],
   "source": [
    "# // Write dataframe into mysql\n",
    "# // mode - overwrite - sectors/existing  table, data shall be deleted\n",
    "# // mode - append - add records to existing table\n",
    "# // mode - ignore - if table already exist, silently ignore no write\n",
    "#                    if table not exist, it creates and insert record\n",
    "# // mode - error , throw error if table already has data\n",
    "#                   if no table exist, then it create table, insert record\n",
    "# // new table created, records shall be inserted\n",
    "# // \"jdbc\" - write to connect to db\n",
    "# // driver - mysql class name\n",
    "# // user - mysql user name\n",
    "# // password - mysql password\n",
    "# // dbtable - mysql table name\n",
    "( sectorDf\n",
    ".withColumnRenamed(\"Company Name\", \"Company\")\n",
    ".withColumnRenamed(\"ISIN Code\", \"ISIN\")\n",
    ".write\n",
    " .mode(\"error\")\n",
    ".format(\"jdbc\")\n",
    ".option(\"url\", \"jdbc:mysql://localhost:3306/stockdb\")\n",
    ".option(\"driver\", \"com.mysql.jdbc.Driver\")\n",
    ".option(\"user\", \"team\")\n",
    ".option(\"password\", \"Team1234!\")\n",
    ".option(\"dbtable\", \"sectors_pyspark\")\n",
    " .save()\n",
    ")"
   ]
  },
  {
   "cell_type": "code",
   "execution_count": 7,
   "id": "b30608c4-0c2c-4999-99d2-6bfde5f789e9",
   "metadata": {},
   "outputs": [],
   "source": [
    "# in Mysql\n",
    "# SELECT * FROM sectors_pyspark"
   ]
  },
  {
   "cell_type": "code",
   "execution_count": 9,
   "id": "be2d55d7-19b4-4f1b-98d7-623f03784773",
   "metadata": {},
   "outputs": [
    {
     "name": "stdout",
     "output_type": "stream",
     "text": [
      "root\n",
      " |-- Company: string (nullable = true)\n",
      " |-- Industry: string (nullable = true)\n",
      " |-- Symbol: string (nullable = true)\n",
      " |-- Series: string (nullable = true)\n",
      " |-- ISIN: string (nullable = true)\n",
      "\n",
      "+--------------------+------------------+----------+------+------------+\n",
      "|             Company|          Industry|    Symbol|Series|        ISIN|\n",
      "+--------------------+------------------+----------+------+------------+\n",
      "|      Axis Bank Ltd.|FINANCIAL SERVICES|  AXISBANK|    EQ|INE238A01034|\n",
      "|  Bajaj Finance Ltd.|FINANCIAL SERVICES|BAJFINANCE|    EQ|INE296A01024|\n",
      "|  Bajaj Finserv Ltd.|FINANCIAL SERVICES|BAJAJFINSV|    EQ|INE918I01018|\n",
      "|Cholamandalam Inv...|FINANCIAL SERVICES|  CHOLAFIN|    EQ|INE121A01024|\n",
      "|HDFC Asset Manage...|FINANCIAL SERVICES|   HDFCAMC|    EQ|INE127D01025|\n",
      "+--------------------+------------------+----------+------+------------+\n",
      "only showing top 5 rows\n",
      "\n"
     ]
    }
   ],
   "source": [
    "# // Now read data from mysql to DataFrame\n",
    "# // this will create schema automatically because database\n",
    "# // is structured already, it has table, column, data type etc\n",
    "# // Spark will read scheme definition from mysql and create dataframe\n",
    "# // automatically\n",
    "sectorDataFromMySqlDf = ( spark.read\n",
    ".format(\"jdbc\")\n",
    ".option(\"url\", \"jdbc:mysql://localhost:3306/stockdb\")\n",
    ".option(\"driver\", \"com.mysql.jdbc.Driver\")\n",
    ".option(\"user\", \"team\")\n",
    ".option(\"password\", \"Team1234!\")\n",
    ".option(\"dbtable\", \"sectors_pyspark\")\n",
    " .load()\n",
    " )\n",
    "\n",
    "sectorDataFromMySqlDf.printSchema()\n",
    "sectorDataFromMySqlDf.show(5)"
   ]
  },
  {
   "cell_type": "code",
   "execution_count": null,
   "id": "6d1cb7ae-8fb5-4d86-88bc-92b22e2b9b2c",
   "metadata": {},
   "outputs": [],
   "source": []
  }
 ],
 "metadata": {
  "kernelspec": {
   "display_name": "Python 3",
   "language": "python",
   "name": "python3"
  },
  "language_info": {
   "codemirror_mode": {
    "name": "ipython",
    "version": 3
   },
   "file_extension": ".py",
   "mimetype": "text/x-python",
   "name": "python",
   "nbconvert_exporter": "python",
   "pygments_lexer": "ipython3",
   "version": "3.7.12"
  }
 },
 "nbformat": 4,
 "nbformat_minor": 5
}
